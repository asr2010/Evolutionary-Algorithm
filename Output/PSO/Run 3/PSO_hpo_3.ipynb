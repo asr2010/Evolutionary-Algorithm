{
 "cells": [
  {
   "cell_type": "code",
   "execution_count": 1,
   "id": "38011459",
   "metadata": {},
   "outputs": [
    {
     "name": "stdout",
     "output_type": "stream",
     "text": [
      "Loading and preprocessing CIFAR-10 dataset\n"
     ]
    },
    {
     "name": "stderr",
     "output_type": "stream",
     "text": [
      "2023-05-01 02:05:40,329 - pyswarms.single.global_best - INFO - Optimize for 20 iters with {'c1': 1.0, 'c2': 1.9, 'w': 0.8}\n"
     ]
    },
    {
     "name": "stdout",
     "output_type": "stream",
     "text": [
      "Splitting the training data into train and validation sets\n",
      "Defining the PSO search space for hyperparameters\n",
      "Defining the fitness function with fixed data arguments\n",
      "Initializing the PSO optimizer\n",
      "Running the PSO optimizer\n"
     ]
    },
    {
     "name": "stderr",
     "output_type": "stream",
     "text": [
      "\r",
      "pyswarms.single.global_best:   0%|                                                                                |0/20"
     ]
    },
    {
     "name": "stdout",
     "output_type": "stream",
     "text": [
      "Hyperparameters: num_filters1=70, num_filters2=24, dense_units=706, learning_rate=0.0088045087242252\n",
      "Hyperparameters: num_filters1=125, num_filters2=28, dense_units=295, learning_rate=0.0034218053271497057\n",
      "Hyperparameters: num_filters1=100, num_filters2=98, dense_units=726, learning_rate=0.00959218710237934\n",
      "Hyperparameters: num_filters1=117, num_filters2=22, dense_units=661, learning_rate=0.007314837867510245\n",
      "Hyperparameters: num_filters1=74, num_filters2=41, dense_units=240, learning_rate=0.0004835532478906446\n",
      "Hyperparameters: num_filters1=88, num_filters2=37, dense_units=163, learning_rate=0.002476515082936374\n",
      "Hyperparameters: num_filters1=50, num_filters2=109, dense_units=558, learning_rate=0.0020747016442937438\n",
      "Hyperparameters: num_filters1=26, num_filters2=100, dense_units=365, learning_rate=0.0037626160971028543\n",
      "Hyperparameters: num_filters1=79, num_filters2=54, dense_units=547, learning_rate=0.0071407799019877986\n",
      "Hyperparameters: num_filters1=75, num_filters2=34, dense_units=352, learning_rate=0.005492260453106041\n",
      "Hyperparameters: num_filters1=21, num_filters2=124, dense_units=835, learning_rate=0.003247167580269928\n",
      "Hyperparameters: num_filters1=18, num_filters2=40, dense_units=595, learning_rate=0.0032401531547421995\n",
      "Hyperparameters: num_filters1=34, num_filters2=48, dense_units=245, learning_rate=0.007925064483577137\n",
      "Hyperparameters: num_filters1=126, num_filters2=20, dense_units=363, learning_rate=0.001836246857265491\n",
      "Hyperparameters: num_filters1=109, num_filters2=85, dense_units=936, learning_rate=0.0021626088199186463\n",
      "Hyperparameters: num_filters1=43, num_filters2=80, dense_units=840, learning_rate=0.00708907094101516\n",
      "Hyperparameters: num_filters1=104, num_filters2=67, dense_units=251, learning_rate=0.009808931215470171\n",
      "Hyperparameters: num_filters1=67, num_filters2=103, dense_units=460, learning_rate=0.00013750657701633878\n",
      "Hyperparameters: num_filters1=78, num_filters2=66, dense_units=876, learning_rate=0.004765065229421293\n",
      "Hyperparameters: num_filters1=50, num_filters2=45, dense_units=617, learning_rate=0.004388208283567977\n"
     ]
    },
    {
     "name": "stderr",
     "output_type": "stream",
     "text": [
      "pyswarms.single.global_best:   5%|███▎                                                             |1/20, best_cost=0.7"
     ]
    },
    {
     "name": "stdout",
     "output_type": "stream",
     "text": [
      "Hyperparameters: num_filters1=40, num_filters2=23, dense_units=696, learning_rate=0.0066303632637348085\n",
      "Hyperparameters: num_filters1=120, num_filters2=23, dense_units=357, learning_rate=0.002822866707993498\n",
      "Hyperparameters: num_filters1=18, num_filters2=24, dense_units=659, learning_rate=0.0020380461408081034\n",
      "Hyperparameters: num_filters1=118, num_filters2=23, dense_units=662, learning_rate=0.0006337073886454451\n",
      "Hyperparameters: num_filters1=37, num_filters2=38, dense_units=484, learning_rate=0.0006002821742355003\n",
      "Hyperparameters: num_filters1=110, num_filters2=126, dense_units=735, learning_rate=0.005985559441182819\n",
      "Hyperparameters: num_filters1=22, num_filters2=101, dense_units=647, learning_rate=6.879672351329773e-05\n",
      "Hyperparameters: num_filters1=36, num_filters2=41, dense_units=691, learning_rate=0.0054624170412046116\n",
      "Hyperparameters: num_filters1=33, num_filters2=22, dense_units=641, learning_rate=0.005814141466891522\n",
      "Hyperparameters: num_filters1=109, num_filters2=34, dense_units=651, learning_rate=0.009157508076976921\n",
      "Hyperparameters: num_filters1=88, num_filters2=64, dense_units=709, learning_rate=0.0007600866965691484\n",
      "Hyperparameters: num_filters1=67, num_filters2=25, dense_units=680, learning_rate=0.008646285197759604\n",
      "Hyperparameters: num_filters1=100, num_filters2=43, dense_units=311, learning_rate=5.793034355274686e-05\n",
      "Hyperparameters: num_filters1=120, num_filters2=24, dense_units=816, learning_rate=0.009231352466188822\n",
      "Hyperparameters: num_filters1=117, num_filters2=90, dense_units=914, learning_rate=0.001045538581254443\n",
      "Hyperparameters: num_filters1=57, num_filters2=46, dense_units=680, learning_rate=0.0008652570204903992\n",
      "Hyperparameters: num_filters1=119, num_filters2=43, dense_units=712, learning_rate=0.00930657920403815\n",
      "Hyperparameters: num_filters1=103, num_filters2=88, dense_units=549, learning_rate=0.007247604594549498\n",
      "Hyperparameters: num_filters1=17, num_filters2=28, dense_units=543, learning_rate=0.006340729284163578\n",
      "Hyperparameters: num_filters1=47, num_filters2=44, dense_units=664, learning_rate=0.008310679496464298\n"
     ]
    },
    {
     "name": "stderr",
     "output_type": "stream",
     "text": [
      "pyswarms.single.global_best:  10%|██████▍                                                         |2/20, best_cost=0.69"
     ]
    },
    {
     "name": "stdout",
     "output_type": "stream",
     "text": [
      "Hyperparameters: num_filters1=97, num_filters2=94, dense_units=498, learning_rate=0.0009520770312748954\n",
      "Hyperparameters: num_filters1=115, num_filters2=84, dense_units=465, learning_rate=0.009868848687651656\n",
      "Hyperparameters: num_filters1=127, num_filters2=106, dense_units=550, learning_rate=0.004650106746926418\n",
      "Hyperparameters: num_filters1=97, num_filters2=75, dense_units=638, learning_rate=0.0028756780058106697\n",
      "Hyperparameters: num_filters1=109, num_filters2=111, dense_units=718, learning_rate=0.004885766099542324\n",
      "Hyperparameters: num_filters1=113, num_filters2=42, dense_units=840, learning_rate=0.0048831216969710284\n",
      "Hyperparameters: num_filters1=25, num_filters2=75, dense_units=589, learning_rate=0.005930590861910653\n",
      "Hyperparameters: num_filters1=96, num_filters2=64, dense_units=907, learning_rate=0.00836201580935835\n",
      "Hyperparameters: num_filters1=38, num_filters2=114, dense_units=615, learning_rate=0.004102106721186865\n",
      "Hyperparameters: num_filters1=104, num_filters2=101, dense_units=537, learning_rate=0.009618442512148861\n",
      "Hyperparameters: num_filters1=77, num_filters2=96, dense_units=434, learning_rate=0.0025794962380129402\n",
      "Hyperparameters: num_filters1=93, num_filters2=118, dense_units=673, learning_rate=0.00696862474315588\n",
      "Hyperparameters: num_filters1=22, num_filters2=42, dense_units=629, learning_rate=0.0067138443050487155\n",
      "Hyperparameters: num_filters1=94, num_filters2=65, dense_units=812, learning_rate=0.009372717597777256\n",
      "Hyperparameters: num_filters1=117, num_filters2=112, dense_units=739, learning_rate=0.0009978530427145527\n",
      "Hyperparameters: num_filters1=36, num_filters2=53, dense_units=529, learning_rate=0.0006250977825894796\n",
      "Hyperparameters: num_filters1=94, num_filters2=31, dense_units=645, learning_rate=0.00686563425022403\n",
      "Hyperparameters: num_filters1=19, num_filters2=76, dense_units=621, learning_rate=0.0009476830085759801\n",
      "Hyperparameters: num_filters1=38, num_filters2=60, dense_units=425, learning_rate=0.007308784273322459\n",
      "Hyperparameters: num_filters1=73, num_filters2=84, dense_units=491, learning_rate=0.007796004624425552\n"
     ]
    },
    {
     "name": "stderr",
     "output_type": "stream",
     "text": [
      "pyswarms.single.global_best:  15%|█████████▌                                                      |3/20, best_cost=0.69"
     ]
    },
    {
     "name": "stdout",
     "output_type": "stream",
     "text": [
      "Hyperparameters: num_filters1=111, num_filters2=29, dense_units=579, learning_rate=0.006018661481896077\n",
      "Hyperparameters: num_filters1=91, num_filters2=23, dense_units=700, learning_rate=0.006796559008040272\n",
      "Hyperparameters: num_filters1=54, num_filters2=51, dense_units=543, learning_rate=0.004868378807507382\n",
      "Hyperparameters: num_filters1=88, num_filters2=102, dense_units=471, learning_rate=0.00276927469283308\n",
      "Hyperparameters: num_filters1=62, num_filters2=97, dense_units=767, learning_rate=0.004726303923634047\n",
      "Hyperparameters: num_filters1=106, num_filters2=40, dense_units=840, learning_rate=0.009005712474915573\n",
      "Hyperparameters: num_filters1=23, num_filters2=71, dense_units=521, learning_rate=0.00033022384893370777\n",
      "Hyperparameters: num_filters1=37, num_filters2=97, dense_units=798, learning_rate=0.002088498610535962\n",
      "Hyperparameters: num_filters1=100, num_filters2=59, dense_units=506, learning_rate=0.002136181399749544\n",
      "Hyperparameters: num_filters1=88, num_filters2=127, dense_units=372, learning_rate=0.006968450993865718\n",
      "Hyperparameters: num_filters1=58, num_filters2=26, dense_units=338, learning_rate=0.0029523112343781\n",
      "Hyperparameters: num_filters1=118, num_filters2=31, dense_units=653, learning_rate=0.008065381237785933\n",
      "Hyperparameters: num_filters1=17, num_filters2=64, dense_units=848, learning_rate=0.008846922910819338\n",
      "Hyperparameters: num_filters1=75, num_filters2=102, dense_units=356, learning_rate=0.0007381091367859292\n",
      "Hyperparameters: num_filters1=94, num_filters2=105, dense_units=373, learning_rate=0.0070315267701778345\n",
      "Hyperparameters: num_filters1=59, num_filters2=35, dense_units=714, learning_rate=0.00705344305989917\n",
      "Hyperparameters: num_filters1=79, num_filters2=77, dense_units=961, learning_rate=0.003979235357226734\n",
      "Hyperparameters: num_filters1=62, num_filters2=84, dense_units=569, learning_rate=0.007736594645430516\n",
      "Hyperparameters: num_filters1=57, num_filters2=96, dense_units=803, learning_rate=0.008526156118573922\n",
      "Hyperparameters: num_filters1=74, num_filters2=122, dense_units=439, learning_rate=0.009032607130290839\n"
     ]
    },
    {
     "name": "stderr",
     "output_type": "stream",
     "text": [
      "pyswarms.single.global_best:  20%|████████████▊                                                   |4/20, best_cost=0.66"
     ]
    },
    {
     "name": "stdout",
     "output_type": "stream",
     "text": [
      "Hyperparameters: num_filters1=79, num_filters2=74, dense_units=810, learning_rate=0.003272377029469925\n",
      "Hyperparameters: num_filters1=124, num_filters2=81, dense_units=899, learning_rate=0.004397147420738481\n",
      "Hyperparameters: num_filters1=103, num_filters2=120, dense_units=897, learning_rate=0.002512271655148717\n",
      "Hyperparameters: num_filters1=42, num_filters2=19, dense_units=874, learning_rate=0.003997905566071032\n",
      "Hyperparameters: num_filters1=113, num_filters2=97, dense_units=708, learning_rate=0.003278786786132648\n",
      "Hyperparameters: num_filters1=44, num_filters2=35, dense_units=709, learning_rate=0.007215592021517208\n",
      "Hyperparameters: num_filters1=115, num_filters2=31, dense_units=768, learning_rate=0.00019628066503234737\n",
      "Hyperparameters: num_filters1=44, num_filters2=38, dense_units=599, learning_rate=0.009586228854433141\n",
      "Hyperparameters: num_filters1=50, num_filters2=103, dense_units=668, learning_rate=0.0038873134200004774\n",
      "Hyperparameters: num_filters1=23, num_filters2=45, dense_units=684, learning_rate=0.0008284288070467016\n",
      "Hyperparameters: num_filters1=34, num_filters2=124, dense_units=884, learning_rate=0.005740277232100844\n",
      "Hyperparameters: num_filters1=61, num_filters2=85, dense_units=662, learning_rate=0.0029959376282668753\n",
      "Hyperparameters: num_filters1=46, num_filters2=55, dense_units=506, learning_rate=0.008298234032302404\n",
      "Hyperparameters: num_filters1=60, num_filters2=68, dense_units=517, learning_rate=0.0012600669059330953\n",
      "Hyperparameters: num_filters1=71, num_filters2=103, dense_units=135, learning_rate=0.002906428710851858\n",
      "Hyperparameters: num_filters1=54, num_filters2=110, dense_units=862, learning_rate=0.006202119281746958\n",
      "Hyperparameters: num_filters1=61, num_filters2=54, dense_units=328, learning_rate=0.0023352466865887212\n",
      "Hyperparameters: num_filters1=81, num_filters2=57, dense_units=541, learning_rate=0.004890719639266459\n",
      "Hyperparameters: num_filters1=30, num_filters2=35, dense_units=964, learning_rate=0.006911166756082608\n",
      "Hyperparameters: num_filters1=51, num_filters2=105, dense_units=722, learning_rate=0.0009567255245673729\n"
     ]
    },
    {
     "name": "stderr",
     "output_type": "stream",
     "text": [
      "pyswarms.single.global_best:  25%|████████████████                                                |5/20, best_cost=0.66"
     ]
    },
    {
     "name": "stdout",
     "output_type": "stream",
     "text": [
      "Hyperparameters: num_filters1=26, num_filters2=33, dense_units=915, learning_rate=0.000925287465903674\n",
      "Hyperparameters: num_filters1=61, num_filters2=66, dense_units=770, learning_rate=0.008266948920228835\n",
      "Hyperparameters: num_filters1=62, num_filters2=125, dense_units=226, learning_rate=0.002594170415591072\n",
      "Hyperparameters: num_filters1=18, num_filters2=97, dense_units=883, learning_rate=0.004298641506757463\n",
      "Hyperparameters: num_filters1=93, num_filters2=83, dense_units=668, learning_rate=0.001713111714794009\n",
      "Hyperparameters: num_filters1=71, num_filters2=36, dense_units=631, learning_rate=0.002235693080565033\n",
      "Hyperparameters: num_filters1=29, num_filters2=45, dense_units=820, learning_rate=0.006105464365246734\n",
      "Hyperparameters: num_filters1=51, num_filters2=104, dense_units=492, learning_rate=0.002820592691342038\n",
      "Hyperparameters: num_filters1=101, num_filters2=127, dense_units=848, learning_rate=0.009797000296379407\n",
      "Hyperparameters: num_filters1=19, num_filters2=74, dense_units=831, learning_rate=0.00781597575367647\n",
      "Hyperparameters: num_filters1=39, num_filters2=83, dense_units=896, learning_rate=0.008189012472389352\n",
      "Hyperparameters: num_filters1=25, num_filters2=73, dense_units=744, learning_rate=0.003321182758322706\n",
      "Hyperparameters: num_filters1=66, num_filters2=41, dense_units=388, learning_rate=0.008365136946876447\n",
      "Hyperparameters: num_filters1=49, num_filters2=20, dense_units=925, learning_rate=0.006731719304902347\n",
      "Hyperparameters: num_filters1=63, num_filters2=81, dense_units=534, learning_rate=0.008997445424616042\n",
      "Hyperparameters: num_filters1=36, num_filters2=54, dense_units=727, learning_rate=0.004941621317349546\n",
      "Hyperparameters: num_filters1=49, num_filters2=16, dense_units=579, learning_rate=0.005215607204434538\n",
      "Hyperparameters: num_filters1=44, num_filters2=116, dense_units=779, learning_rate=0.008011869650982337\n",
      "Hyperparameters: num_filters1=25, num_filters2=106, dense_units=822, learning_rate=0.0013010251381789868\n",
      "Hyperparameters: num_filters1=39, num_filters2=115, dense_units=890, learning_rate=0.0043629330742215346\n"
     ]
    },
    {
     "name": "stderr",
     "output_type": "stream",
     "text": [
      "pyswarms.single.global_best:  30%|███████████████████▏                                            |6/20, best_cost=0.66"
     ]
    },
    {
     "name": "stdout",
     "output_type": "stream",
     "text": [
      "Hyperparameters: num_filters1=85, num_filters2=115, dense_units=501, learning_rate=0.0023971769035411824\n",
      "Hyperparameters: num_filters1=33, num_filters2=25, dense_units=636, learning_rate=0.008904231848825803\n",
      "Hyperparameters: num_filters1=41, num_filters2=113, dense_units=861, learning_rate=0.006048617793412352\n",
      "Hyperparameters: num_filters1=121, num_filters2=30, dense_units=476, learning_rate=0.00965181811831548\n",
      "Hyperparameters: num_filters1=39, num_filters2=92, dense_units=654, learning_rate=0.0016585499347977436\n",
      "Hyperparameters: num_filters1=100, num_filters2=40, dense_units=682, learning_rate=0.007835569826188276\n",
      "Hyperparameters: num_filters1=82, num_filters2=54, dense_units=557, learning_rate=0.0074705165584416245\n",
      "Hyperparameters: num_filters1=38, num_filters2=80, dense_units=527, learning_rate=0.009625683987983247\n",
      "Hyperparameters: num_filters1=95, num_filters2=18, dense_units=772, learning_rate=0.005339642762953487\n",
      "Hyperparameters: num_filters1=123, num_filters2=16, dense_units=619, learning_rate=0.0012142863882114896\n",
      "Hyperparameters: num_filters1=51, num_filters2=31, dense_units=510, learning_rate=0.0011145378194399613\n",
      "Hyperparameters: num_filters1=86, num_filters2=34, dense_units=698, learning_rate=7.184869019747186e-05\n",
      "Hyperparameters: num_filters1=57, num_filters2=37, dense_units=885, learning_rate=0.007881605905913601\n",
      "Hyperparameters: num_filters1=84, num_filters2=116, dense_units=208, learning_rate=0.004604878300867815\n",
      "Hyperparameters: num_filters1=55, num_filters2=83, dense_units=981, learning_rate=0.008019287780347885\n",
      "Hyperparameters: num_filters1=122, num_filters2=80, dense_units=601, learning_rate=0.006827254976605563\n",
      "Hyperparameters: num_filters1=71, num_filters2=22, dense_units=275, learning_rate=0.008126076481991058\n",
      "Hyperparameters: num_filters1=30, num_filters2=39, dense_units=885, learning_rate=0.00489920526411851\n",
      "Hyperparameters: num_filters1=27, num_filters2=60, dense_units=592, learning_rate=0.006640248589167218\n",
      "Hyperparameters: num_filters1=30, num_filters2=94, dense_units=626, learning_rate=0.002804448276128479\n"
     ]
    },
    {
     "name": "stderr",
     "output_type": "stream",
     "text": [
      "pyswarms.single.global_best:  35%|██████████████████████▍                                         |7/20, best_cost=0.66"
     ]
    },
    {
     "name": "stdout",
     "output_type": "stream",
     "text": [
      "Hyperparameters: num_filters1=107, num_filters2=58, dense_units=552, learning_rate=0.00184325680826283\n",
      "Hyperparameters: num_filters1=75, num_filters2=109, dense_units=616, learning_rate=0.008519217110948945\n",
      "Hyperparameters: num_filters1=29, num_filters2=111, dense_units=242, learning_rate=0.000349300383676076\n",
      "Hyperparameters: num_filters1=115, num_filters2=108, dense_units=612, learning_rate=0.0037087902212214964\n",
      "Hyperparameters: num_filters1=28, num_filters2=109, dense_units=725, learning_rate=0.008433294139099198\n",
      "Hyperparameters: num_filters1=75, num_filters2=39, dense_units=780, learning_rate=0.003914218792859704\n",
      "Hyperparameters: num_filters1=88, num_filters2=59, dense_units=366, learning_rate=0.004697864467178316\n",
      "Hyperparameters: num_filters1=34, num_filters2=25, dense_units=162, learning_rate=0.009770515746779626\n",
      "Hyperparameters: num_filters1=101, num_filters2=113, dense_units=558, learning_rate=0.0051224185748979315\n",
      "Hyperparameters: num_filters1=71, num_filters2=23, dense_units=375, learning_rate=0.006895275251717233\n",
      "Hyperparameters: num_filters1=64, num_filters2=17, dense_units=475, learning_rate=0.006609681745925971\n",
      "Hyperparameters: num_filters1=118, num_filters2=48, dense_units=667, learning_rate=0.00822243739411834\n",
      "Hyperparameters: num_filters1=22, num_filters2=49, dense_units=881, learning_rate=0.007413274806287102\n",
      "Hyperparameters: num_filters1=101, num_filters2=97, dense_units=926, learning_rate=0.008551239749765724\n",
      "Hyperparameters: num_filters1=56, num_filters2=103, dense_units=735, learning_rate=0.0058324991048409516\n",
      "Hyperparameters: num_filters1=53, num_filters2=29, dense_units=583, learning_rate=0.008865433451218199\n",
      "Hyperparameters: num_filters1=82, num_filters2=27, dense_units=276, learning_rate=0.008952216300007343\n",
      "Hyperparameters: num_filters1=64, num_filters2=30, dense_units=639, learning_rate=0.0007558736647964239\n",
      "Hyperparameters: num_filters1=27, num_filters2=33, dense_units=578, learning_rate=0.005082317285468617\n",
      "Hyperparameters: num_filters1=120, num_filters2=113, dense_units=469, learning_rate=0.0009820836366851043\n"
     ]
    },
    {
     "name": "stderr",
     "output_type": "stream",
     "text": [
      "pyswarms.single.global_best:  40%|█████████████████████████▌                                      |8/20, best_cost=0.66"
     ]
    },
    {
     "name": "stdout",
     "output_type": "stream",
     "text": [
      "Hyperparameters: num_filters1=37, num_filters2=34, dense_units=556, learning_rate=0.004076946358315894\n",
      "Hyperparameters: num_filters1=100, num_filters2=71, dense_units=718, learning_rate=0.008476148362659752\n",
      "Hyperparameters: num_filters1=86, num_filters2=104, dense_units=998, learning_rate=0.0040302164062499465\n",
      "Hyperparameters: num_filters1=60, num_filters2=78, dense_units=843, learning_rate=0.008373087412702578\n",
      "Hyperparameters: num_filters1=52, num_filters2=64, dense_units=772, learning_rate=0.009639561560314414\n",
      "Hyperparameters: num_filters1=34, num_filters2=33, dense_units=834, learning_rate=0.00987058784194735\n",
      "Hyperparameters: num_filters1=125, num_filters2=54, dense_units=841, learning_rate=0.00707037291329588\n",
      "Hyperparameters: num_filters1=18, num_filters2=17, dense_units=531, learning_rate=0.003402118084109495\n",
      "Hyperparameters: num_filters1=92, num_filters2=110, dense_units=710, learning_rate=0.003831880645668128\n",
      "Hyperparameters: num_filters1=111, num_filters2=62, dense_units=572, learning_rate=0.005688784179852108\n",
      "Hyperparameters: num_filters1=49, num_filters2=118, dense_units=846, learning_rate=0.003746524428101006\n",
      "Hyperparameters: num_filters1=108, num_filters2=116, dense_units=736, learning_rate=0.0062780918384560385\n",
      "Hyperparameters: num_filters1=105, num_filters2=36, dense_units=233, learning_rate=0.002704569141776527\n",
      "Hyperparameters: num_filters1=81, num_filters2=109, dense_units=450, learning_rate=0.002435353566584772\n",
      "Hyperparameters: num_filters1=64, num_filters2=18, dense_units=271, learning_rate=0.009789040386802244\n",
      "Hyperparameters: num_filters1=122, num_filters2=19, dense_units=797, learning_rate=0.004231172133861715\n",
      "Hyperparameters: num_filters1=53, num_filters2=34, dense_units=190, learning_rate=0.00020925558494666463\n",
      "Hyperparameters: num_filters1=70, num_filters2=90, dense_units=407, learning_rate=0.00017159978646614753\n",
      "Hyperparameters: num_filters1=38, num_filters2=42, dense_units=600, learning_rate=0.00788944870616405\n",
      "Hyperparameters: num_filters1=35, num_filters2=99, dense_units=385, learning_rate=0.0006192434328202092\n"
     ]
    },
    {
     "name": "stderr",
     "output_type": "stream",
     "text": [
      "pyswarms.single.global_best:  45%|████████████████████████████▊                                   |9/20, best_cost=0.66"
     ]
    },
    {
     "name": "stdout",
     "output_type": "stream",
     "text": [
      "Hyperparameters: num_filters1=102, num_filters2=16, dense_units=592, learning_rate=0.0029275830164760042\n",
      "Hyperparameters: num_filters1=106, num_filters2=121, dense_units=830, learning_rate=0.0013251776865030322\n",
      "Hyperparameters: num_filters1=27, num_filters2=106, dense_units=876, learning_rate=0.0048919328981479986\n",
      "Hyperparameters: num_filters1=19, num_filters2=95, dense_units=797, learning_rate=0.009714733769983391\n",
      "Hyperparameters: num_filters1=72, num_filters2=63, dense_units=703, learning_rate=0.009872022517487943\n",
      "Hyperparameters: num_filters1=23, num_filters2=29, dense_units=791, learning_rate=0.002189418637741076\n",
      "Hyperparameters: num_filters1=125, num_filters2=38, dense_units=895, learning_rate=0.0008294489065768644\n",
      "Hyperparameters: num_filters1=25, num_filters2=68, dense_units=880, learning_rate=0.00017218874467574876\n",
      "Hyperparameters: num_filters1=41, num_filters2=94, dense_units=801, learning_rate=0.004686429185748842\n",
      "Hyperparameters: num_filters1=121, num_filters2=68, dense_units=828, learning_rate=0.005987306706269919\n",
      "Hyperparameters: num_filters1=29, num_filters2=107, dense_units=788, learning_rate=0.005923960776720805\n",
      "Hyperparameters: num_filters1=49, num_filters2=49, dense_units=743, learning_rate=0.007795821729521826\n",
      "Hyperparameters: num_filters1=111, num_filters2=38, dense_units=939, learning_rate=0.0018572161178128156\n",
      "Hyperparameters: num_filters1=51, num_filters2=101, dense_units=576, learning_rate=0.009533319724806684\n",
      "Hyperparameters: num_filters1=61, num_filters2=114, dense_units=420, learning_rate=0.006054834181770028\n",
      "Hyperparameters: num_filters1=66, num_filters2=67, dense_units=804, learning_rate=0.00104900423063338\n",
      "Hyperparameters: num_filters1=61, num_filters2=38, dense_units=785, learning_rate=0.0012266522517705024\n",
      "Hyperparameters: num_filters1=48, num_filters2=100, dense_units=753, learning_rate=0.0041562093129210165\n",
      "Hyperparameters: num_filters1=28, num_filters2=74, dense_units=632, learning_rate=0.005202049278708114\n",
      "Hyperparameters: num_filters1=76, num_filters2=70, dense_units=383, learning_rate=0.006252334592134059\n"
     ]
    },
    {
     "name": "stderr",
     "output_type": "stream",
     "text": [
      "pyswarms.single.global_best:  50%|███████████████████████████████▌                               |10/20, best_cost=0.66"
     ]
    },
    {
     "name": "stdout",
     "output_type": "stream",
     "text": [
      "Hyperparameters: num_filters1=97, num_filters2=17, dense_units=668, learning_rate=0.007217525193100573\n",
      "Hyperparameters: num_filters1=90, num_filters2=80, dense_units=706, learning_rate=0.009514713600556309\n",
      "Hyperparameters: num_filters1=106, num_filters2=16, dense_units=620, learning_rate=0.0023535757805508294\n",
      "Hyperparameters: num_filters1=94, num_filters2=126, dense_units=695, learning_rate=0.009673756458355637\n",
      "Hyperparameters: num_filters1=84, num_filters2=46, dense_units=662, learning_rate=0.00393611579528415\n",
      "Hyperparameters: num_filters1=23, num_filters2=38, dense_units=668, learning_rate=0.0015242246242029027\n",
      "Hyperparameters: num_filters1=110, num_filters2=56, dense_units=598, learning_rate=0.009032951750094902\n",
      "Hyperparameters: num_filters1=27, num_filters2=43, dense_units=445, learning_rate=0.0013495370603178567\n",
      "Hyperparameters: num_filters1=39, num_filters2=21, dense_units=723, learning_rate=0.007917190146992872\n",
      "Hyperparameters: num_filters1=30, num_filters2=52, dense_units=1018, learning_rate=0.008944781792103902\n",
      "Hyperparameters: num_filters1=27, num_filters2=25, dense_units=592, learning_rate=0.0032766167596022457\n",
      "Hyperparameters: num_filters1=123, num_filters2=121, dense_units=701, learning_rate=0.0018388981011444737\n",
      "Hyperparameters: num_filters1=30, num_filters2=47, dense_units=353, learning_rate=0.0011137347012868952\n",
      "Hyperparameters: num_filters1=49, num_filters2=65, dense_units=735, learning_rate=0.0006438062988971542\n",
      "Hyperparameters: num_filters1=56, num_filters2=21, dense_units=591, learning_rate=0.0051922424544667885\n",
      "Hyperparameters: num_filters1=33, num_filters2=107, dense_units=748, learning_rate=0.008403028666275795\n",
      "Hyperparameters: num_filters1=65, num_filters2=31, dense_units=1009, learning_rate=0.005471429925450119\n",
      "Hyperparameters: num_filters1=53, num_filters2=19, dense_units=949, learning_rate=0.0027440321262803984\n",
      "Hyperparameters: num_filters1=25, num_filters2=84, dense_units=748, learning_rate=0.007389709771116892\n",
      "Hyperparameters: num_filters1=81, num_filters2=32, dense_units=808, learning_rate=0.006158598983523847\n"
     ]
    },
    {
     "name": "stderr",
     "output_type": "stream",
     "text": [
      "pyswarms.single.global_best:  55%|██████████████████████████████████▋                            |11/20, best_cost=0.66"
     ]
    },
    {
     "name": "stdout",
     "output_type": "stream",
     "text": [
      "Hyperparameters: num_filters1=102, num_filters2=57, dense_units=712, learning_rate=0.0032020571273296623\n",
      "Hyperparameters: num_filters1=73, num_filters2=93, dense_units=655, learning_rate=0.009584394346620702\n",
      "Hyperparameters: num_filters1=48, num_filters2=33, dense_units=644, learning_rate=0.008610064868292262\n",
      "Hyperparameters: num_filters1=105, num_filters2=92, dense_units=630, learning_rate=0.00045132318652872\n",
      "Hyperparameters: num_filters1=17, num_filters2=77, dense_units=763, learning_rate=0.005597600196349809\n",
      "Hyperparameters: num_filters1=82, num_filters2=36, dense_units=786, learning_rate=0.003587841411816954\n",
      "Hyperparameters: num_filters1=29, num_filters2=65, dense_units=397, learning_rate=0.006355178950198369\n",
      "Hyperparameters: num_filters1=16, num_filters2=44, dense_units=192, learning_rate=0.0016016119270015204\n",
      "Hyperparameters: num_filters1=76, num_filters2=78, dense_units=659, learning_rate=0.0012251005739043323\n",
      "Hyperparameters: num_filters1=112, num_filters2=54, dense_units=782, learning_rate=0.00436220523365659\n",
      "Hyperparameters: num_filters1=58, num_filters2=88, dense_units=522, learning_rate=0.0004981977017038193\n",
      "Hyperparameters: num_filters1=90, num_filters2=62, dense_units=666, learning_rate=0.0023667509164865545\n",
      "Hyperparameters: num_filters1=96, num_filters2=54, dense_units=596, learning_rate=0.009155682157826918\n",
      "Hyperparameters: num_filters1=79, num_filters2=73, dense_units=684, learning_rate=0.006527272512746308\n",
      "Hyperparameters: num_filters1=61, num_filters2=122, dense_units=727, learning_rate=0.0010938380172131807\n",
      "Hyperparameters: num_filters1=77, num_filters2=55, dense_units=629, learning_rate=0.006113512612829419\n",
      "Hyperparameters: num_filters1=67, num_filters2=23, dense_units=223, learning_rate=0.005934416889888466\n",
      "Hyperparameters: num_filters1=37, num_filters2=114, dense_units=759, learning_rate=0.007798786522831993\n",
      "Hyperparameters: num_filters1=108, num_filters2=35, dense_units=684, learning_rate=0.0021315715022828534\n",
      "Hyperparameters: num_filters1=62, num_filters2=94, dense_units=766, learning_rate=0.006454142871252528\n"
     ]
    },
    {
     "name": "stderr",
     "output_type": "stream",
     "text": [
      "pyswarms.single.global_best:  60%|█████████████████████████████████████▊                         |12/20, best_cost=0.66"
     ]
    },
    {
     "name": "stdout",
     "output_type": "stream",
     "text": [
      "Hyperparameters: num_filters1=84, num_filters2=59, dense_units=711, learning_rate=0.008822235177146242\n",
      "Hyperparameters: num_filters1=78, num_filters2=58, dense_units=741, learning_rate=0.001176515029227766\n",
      "Hyperparameters: num_filters1=107, num_filters2=123, dense_units=761, learning_rate=0.006046771020058841\n",
      "Hyperparameters: num_filters1=93, num_filters2=102, dense_units=726, learning_rate=0.009716152970075375\n",
      "Hyperparameters: num_filters1=122, num_filters2=108, dense_units=787, learning_rate=0.00017999450517442283\n",
      "Hyperparameters: num_filters1=114, num_filters2=33, dense_units=774, learning_rate=0.003938168436809544\n",
      "Hyperparameters: num_filters1=118, num_filters2=18, dense_units=583, learning_rate=0.001372643536702797\n",
      "Hyperparameters: num_filters1=33, num_filters2=33, dense_units=612, learning_rate=0.0056280099479262425\n",
      "Hyperparameters: num_filters1=119, num_filters2=27, dense_units=629, learning_rate=0.0017325827091221745\n",
      "Hyperparameters: num_filters1=108, num_filters2=54, dense_units=600, learning_rate=0.0010010104408241485\n",
      "Hyperparameters: num_filters1=66, num_filters2=104, dense_units=764, learning_rate=0.007295899314957423\n",
      "Hyperparameters: num_filters1=30, num_filters2=118, dense_units=673, learning_rate=0.004646712531476423\n",
      "Hyperparameters: num_filters1=106, num_filters2=26, dense_units=914, learning_rate=0.009665466301365212\n",
      "Hyperparameters: num_filters1=105, num_filters2=78, dense_units=529, learning_rate=0.006041309500976316\n",
      "Hyperparameters: num_filters1=64, num_filters2=82, dense_units=527, learning_rate=0.007596341683810952\n",
      "Hyperparameters: num_filters1=106, num_filters2=17, dense_units=610, learning_rate=0.0004152627694363896\n",
      "Hyperparameters: num_filters1=69, num_filters2=38, dense_units=378, learning_rate=0.00457517156181237\n",
      "Hyperparameters: num_filters1=37, num_filters2=25, dense_units=389, learning_rate=0.004444867797119008\n",
      "Hyperparameters: num_filters1=118, num_filters2=34, dense_units=577, learning_rate=0.0031645810279941227\n",
      "Hyperparameters: num_filters1=48, num_filters2=89, dense_units=595, learning_rate=0.0010477840328157934\n"
     ]
    },
    {
     "name": "stderr",
     "output_type": "stream",
     "text": [
      "pyswarms.single.global_best:  65%|████████████████████████████████████████▉                      |13/20, best_cost=0.66"
     ]
    },
    {
     "name": "stdout",
     "output_type": "stream",
     "text": [
      "Hyperparameters: num_filters1=111, num_filters2=24, dense_units=715, learning_rate=0.005970507512190195\n",
      "Hyperparameters: num_filters1=64, num_filters2=68, dense_units=798, learning_rate=0.0075656129361208625\n",
      "Hyperparameters: num_filters1=101, num_filters2=66, dense_units=831, learning_rate=0.0008413315294194539\n",
      "Hyperparameters: num_filters1=82, num_filters2=126, dense_units=787, learning_rate=0.009288333548895049\n",
      "Hyperparameters: num_filters1=88, num_filters2=81, dense_units=655, learning_rate=0.004926222145483243\n",
      "Hyperparameters: num_filters1=21, num_filters2=32, dense_units=811, learning_rate=0.009332312670625469\n",
      "Hyperparameters: num_filters1=75, num_filters2=18, dense_units=638, learning_rate=0.0076994770825411524\n",
      "Hyperparameters: num_filters1=54, num_filters2=45, dense_units=607, learning_rate=0.0011772406833538596\n",
      "Hyperparameters: num_filters1=59, num_filters2=53, dense_units=760, learning_rate=0.0079970807918796\n",
      "Hyperparameters: num_filters1=100, num_filters2=51, dense_units=738, learning_rate=0.005799233952231397\n",
      "Hyperparameters: num_filters1=43, num_filters2=95, dense_units=889, learning_rate=0.006710996817494604\n",
      "Hyperparameters: num_filters1=69, num_filters2=27, dense_units=701, learning_rate=0.003251097088322018\n",
      "Hyperparameters: num_filters1=32, num_filters2=19, dense_units=869, learning_rate=0.007243796438481642\n",
      "Hyperparameters: num_filters1=61, num_filters2=84, dense_units=830, learning_rate=0.0009146510864833928\n",
      "Hyperparameters: num_filters1=59, num_filters2=74, dense_units=415, learning_rate=0.007041825878485626\n",
      "Hyperparameters: num_filters1=77, num_filters2=23, dense_units=682, learning_rate=0.007617843876681584\n",
      "Hyperparameters: num_filters1=66, num_filters2=44, dense_units=780, learning_rate=0.0019486199068149347\n",
      "Hyperparameters: num_filters1=88, num_filters2=39, dense_units=505, learning_rate=7.462937100406262e-05\n",
      "Hyperparameters: num_filters1=96, num_filters2=67, dense_units=607, learning_rate=0.006334635667052075\n",
      "Hyperparameters: num_filters1=75, num_filters2=124, dense_units=501, learning_rate=0.005745575030332052\n"
     ]
    },
    {
     "name": "stderr",
     "output_type": "stream",
     "text": [
      "pyswarms.single.global_best:  70%|████████████████████████████████████████████                   |14/20, best_cost=0.66"
     ]
    },
    {
     "name": "stdout",
     "output_type": "stream",
     "text": [
      "Hyperparameters: num_filters1=125, num_filters2=28, dense_units=716, learning_rate=0.0011544003466308459\n",
      "Hyperparameters: num_filters1=72, num_filters2=67, dense_units=762, learning_rate=0.0006472496356775379\n",
      "Hyperparameters: num_filters1=46, num_filters2=41, dense_units=607, learning_rate=0.009132230391869197\n",
      "Hyperparameters: num_filters1=64, num_filters2=41, dense_units=709, learning_rate=0.005475456972290073\n",
      "Hyperparameters: num_filters1=109, num_filters2=34, dense_units=633, learning_rate=0.0032677650257260647\n",
      "Hyperparameters: num_filters1=115, num_filters2=36, dense_units=790, learning_rate=0.0012822772858650613\n",
      "Hyperparameters: num_filters1=44, num_filters2=32, dense_units=814, learning_rate=0.009537662465062874\n",
      "Hyperparameters: num_filters1=36, num_filters2=63, dense_units=621, learning_rate=0.003756527481155105\n",
      "Hyperparameters: num_filters1=20, num_filters2=90, dense_units=845, learning_rate=0.005248102146549478\n",
      "Hyperparameters: num_filters1=61, num_filters2=73, dense_units=874, learning_rate=0.002387802876133291\n",
      "Hyperparameters: num_filters1=36, num_filters2=59, dense_units=679, learning_rate=0.0007881133055852242\n",
      "Hyperparameters: num_filters1=22, num_filters2=110, dense_units=710, learning_rate=0.007935418228349029\n",
      "Hyperparameters: num_filters1=29, num_filters2=31, dense_units=553, learning_rate=0.00710399774429174\n",
      "Hyperparameters: num_filters1=27, num_filters2=121, dense_units=792, learning_rate=0.00459770118263539\n",
      "Hyperparameters: num_filters1=58, num_filters2=104, dense_units=353, learning_rate=0.0008429541667274239\n",
      "Hyperparameters: num_filters1=51, num_filters2=60, dense_units=749, learning_rate=0.003065342439050937\n",
      "Hyperparameters: num_filters1=61, num_filters2=34, dense_units=535, learning_rate=0.005559056738205677\n",
      "Hyperparameters: num_filters1=82, num_filters2=101, dense_units=737, learning_rate=0.009137336396592751\n",
      "Hyperparameters: num_filters1=25, num_filters2=88, dense_units=661, learning_rate=0.00014237747911810926\n",
      "Hyperparameters: num_filters1=73, num_filters2=121, dense_units=714, learning_rate=0.007474065425455827\n"
     ]
    },
    {
     "name": "stderr",
     "output_type": "stream",
     "text": [
      "pyswarms.single.global_best:  75%|███████████████████████████████████████████████▎               |15/20, best_cost=0.66"
     ]
    },
    {
     "name": "stdout",
     "output_type": "stream",
     "text": [
      "Hyperparameters: num_filters1=56, num_filters2=48, dense_units=711, learning_rate=0.003925193345311273\n",
      "Hyperparameters: num_filters1=94, num_filters2=100, dense_units=695, learning_rate=0.005841533467837634\n",
      "Hyperparameters: num_filters1=18, num_filters2=80, dense_units=543, learning_rate=0.00134020223032943\n",
      "Hyperparameters: num_filters1=50, num_filters2=41, dense_units=620, learning_rate=0.001748568123032207\n",
      "Hyperparameters: num_filters1=81, num_filters2=31, dense_units=680, learning_rate=0.002065700123079084\n",
      "Hyperparameters: num_filters1=33, num_filters2=37, dense_units=775, learning_rate=0.008566059035904313\n",
      "Hyperparameters: num_filters1=63, num_filters2=32, dense_units=783, learning_rate=0.0034091721859577343\n",
      "Hyperparameters: num_filters1=27, num_filters2=52, dense_units=279, learning_rate=0.007598182111231285\n",
      "Hyperparameters: num_filters1=39, num_filters2=86, dense_units=784, learning_rate=0.007790426259859784\n",
      "Hyperparameters: num_filters1=68, num_filters2=91, dense_units=890, learning_rate=0.009489694840763611\n",
      "Hyperparameters: num_filters1=46, num_filters2=45, dense_units=565, learning_rate=0.006498456054077334\n",
      "Hyperparameters: num_filters1=65, num_filters2=83, dense_units=720, learning_rate=0.006683497574079914\n",
      "Hyperparameters: num_filters1=80, num_filters2=71, dense_units=535, learning_rate=0.001740812145339048\n",
      "Hyperparameters: num_filters1=34, num_filters2=120, dense_units=579, learning_rate=0.00968731012550909\n",
      "Hyperparameters: num_filters1=58, num_filters2=64, dense_units=270, learning_rate=0.006254254322194008\n",
      "Hyperparameters: num_filters1=71, num_filters2=57, dense_units=751, learning_rate=4.0918558196786973e-05\n",
      "Hyperparameters: num_filters1=63, num_filters2=24, dense_units=340, learning_rate=0.007547026444635847\n",
      "Hyperparameters: num_filters1=37, num_filters2=46, dense_units=881, learning_rate=0.002356221901344925\n",
      "Hyperparameters: num_filters1=112, num_filters2=112, dense_units=694, learning_rate=0.0032431420095488024\n",
      "Hyperparameters: num_filters1=69, num_filters2=122, dense_units=802, learning_rate=0.005177465783076835\n"
     ]
    },
    {
     "name": "stderr",
     "output_type": "stream",
     "text": [
      "pyswarms.single.global_best:  80%|██████████████████████████████████████████████████▍            |16/20, best_cost=0.66"
     ]
    },
    {
     "name": "stdout",
     "output_type": "stream",
     "text": [
      "Hyperparameters: num_filters1=53, num_filters2=67, dense_units=712, learning_rate=0.004925463035326219\n",
      "Hyperparameters: num_filters1=115, num_filters2=72, dense_units=670, learning_rate=0.007307120940394091\n",
      "Hyperparameters: num_filters1=80, num_filters2=42, dense_units=521, learning_rate=0.004572701825879589\n",
      "Hyperparameters: num_filters1=81, num_filters2=123, dense_units=749, learning_rate=0.004897561188881867\n",
      "Hyperparameters: num_filters1=21, num_filters2=94, dense_units=774, learning_rate=0.0015702662630730766\n",
      "Hyperparameters: num_filters1=103, num_filters2=34, dense_units=762, learning_rate=0.006207868632593315\n",
      "Hyperparameters: num_filters1=107, num_filters2=33, dense_units=612, learning_rate=0.005649138861397824\n",
      "Hyperparameters: num_filters1=117, num_filters2=37, dense_units=830, learning_rate=0.008477576733827718\n",
      "Hyperparameters: num_filters1=98, num_filters2=66, dense_units=659, learning_rate=0.003971824471339761\n",
      "Hyperparameters: num_filters1=26, num_filters2=23, dense_units=847, learning_rate=0.008224068011195615\n",
      "Hyperparameters: num_filters1=39, num_filters2=102, dense_units=560, learning_rate=0.007718138050056835\n",
      "Hyperparameters: num_filters1=106, num_filters2=108, dense_units=685, learning_rate=0.002022645741812341\n",
      "Hyperparameters: num_filters1=85, num_filters2=95, dense_units=534, learning_rate=0.002221963553025439\n",
      "Hyperparameters: num_filters1=106, num_filters2=80, dense_units=642, learning_rate=0.0017342370553930547\n",
      "Hyperparameters: num_filters1=64, num_filters2=64, dense_units=294, learning_rate=0.006310929876422552\n",
      "Hyperparameters: num_filters1=99, num_filters2=23, dense_units=722, learning_rate=0.0015646184591004337\n",
      "Hyperparameters: num_filters1=66, num_filters2=19, dense_units=656, learning_rate=0.0038785900209956444\n",
      "Hyperparameters: num_filters1=43, num_filters2=112, dense_units=503, learning_rate=0.009701319365435453\n",
      "Hyperparameters: num_filters1=114, num_filters2=124, dense_units=685, learning_rate=0.0029119504134713565\n",
      "Hyperparameters: num_filters1=51, num_filters2=59, dense_units=422, learning_rate=0.007049900093050445\n"
     ]
    },
    {
     "name": "stderr",
     "output_type": "stream",
     "text": [
      "pyswarms.single.global_best:  85%|█████████████████████████████████████████████████████▌         |17/20, best_cost=0.66"
     ]
    },
    {
     "name": "stdout",
     "output_type": "stream",
     "text": [
      "Hyperparameters: num_filters1=16, num_filters2=44, dense_units=713, learning_rate=0.002029668859534425\n",
      "Hyperparameters: num_filters1=56, num_filters2=86, dense_units=760, learning_rate=0.004915112516815857\n",
      "Hyperparameters: num_filters1=126, num_filters2=50, dense_units=799, learning_rate=0.001451186328930394\n",
      "Hyperparameters: num_filters1=102, num_filters2=122, dense_units=840, learning_rate=0.008411833437616282\n",
      "Hyperparameters: num_filters1=58, num_filters2=88, dense_units=818, learning_rate=0.005900764796838015\n",
      "Hyperparameters: num_filters1=26, num_filters2=32, dense_units=779, learning_rate=0.0011744959897826064\n",
      "Hyperparameters: num_filters1=24, num_filters2=27, dense_units=643, learning_rate=0.007399981875793172\n",
      "Hyperparameters: num_filters1=29, num_filters2=47, dense_units=208, learning_rate=0.007069951323364359\n",
      "Hyperparameters: num_filters1=47, num_filters2=63, dense_units=760, learning_rate=0.009621820479080256\n",
      "Hyperparameters: num_filters1=63, num_filters2=123, dense_units=647, learning_rate=0.00921057137869201\n",
      "Hyperparameters: num_filters1=51, num_filters2=75, dense_units=746, learning_rate=0.003685321174032284\n",
      "Hyperparameters: num_filters1=70, num_filters2=26, dense_units=673, learning_rate=0.00569742958473716\n",
      "Hyperparameters: num_filters1=72, num_filters2=109, dense_units=688, learning_rate=0.008192916973970768\n",
      "Hyperparameters: num_filters1=120, num_filters2=67, dense_units=581, learning_rate=0.00726602935922796\n",
      "Hyperparameters: num_filters1=68, num_filters2=114, dense_units=677, learning_rate=0.002105268195002404\n",
      "Hyperparameters: num_filters1=111, num_filters2=40, dense_units=683, learning_rate=0.003188352411206122\n",
      "Hyperparameters: num_filters1=69, num_filters2=36, dense_units=689, learning_rate=0.00901109797426919\n",
      "Hyperparameters: num_filters1=73, num_filters2=123, dense_units=331, learning_rate=0.008219226950838841\n",
      "Hyperparameters: num_filters1=59, num_filters2=34, dense_units=634, learning_rate=0.0015545375897533923\n",
      "Hyperparameters: num_filters1=51, num_filters2=59, dense_units=342, learning_rate=0.0005611436731443307\n"
     ]
    },
    {
     "name": "stderr",
     "output_type": "stream",
     "text": [
      "pyswarms.single.global_best:  90%|████████████████████████████████████████████████████████▋      |18/20, best_cost=0.66"
     ]
    },
    {
     "name": "stdout",
     "output_type": "stream",
     "text": [
      "Hyperparameters: num_filters1=39, num_filters2=32, dense_units=712, learning_rate=0.003090601711260997\n",
      "Hyperparameters: num_filters1=37, num_filters2=75, dense_units=832, learning_rate=0.004000009635042691\n",
      "Hyperparameters: num_filters1=95, num_filters2=104, dense_units=954, learning_rate=0.0010371508950133318\n",
      "Hyperparameters: num_filters1=18, num_filters2=34, dense_units=722, learning_rate=0.007603294513680929\n",
      "Hyperparameters: num_filters1=97, num_filters2=79, dense_units=831, learning_rate=0.005853627386369603\n",
      "Hyperparameters: num_filters1=111, num_filters2=34, dense_units=782, learning_rate=0.008230450427693152\n",
      "Hyperparameters: num_filters1=101, num_filters2=31, dense_units=710, learning_rate=0.006608986824769866\n",
      "Hyperparameters: num_filters1=57, num_filters2=72, dense_units=764, learning_rate=0.009214766968316412\n",
      "Hyperparameters: num_filters1=44, num_filters2=99, dense_units=857, learning_rate=0.0009884673489314118\n",
      "Hyperparameters: num_filters1=17, num_filters2=95, dense_units=614, learning_rate=0.0041377637377811825\n",
      "Hyperparameters: num_filters1=61, num_filters2=55, dense_units=857, learning_rate=0.0023102279119813396\n",
      "Hyperparameters: num_filters1=42, num_filters2=49, dense_units=719, learning_rate=0.006988168224035614\n",
      "Hyperparameters: num_filters1=42, num_filters2=125, dense_units=774, learning_rate=0.008546110743549178\n",
      "Hyperparameters: num_filters1=35, num_filters2=87, dense_units=676, learning_rate=0.007449820073034304\n",
      "Hyperparameters: num_filters1=64, num_filters2=122, dense_units=812, learning_rate=0.002316957334241664\n",
      "Hyperparameters: num_filters1=105, num_filters2=76, dense_units=696, learning_rate=0.004672297361917625\n",
      "Hyperparameters: num_filters1=80, num_filters2=45, dense_units=701, learning_rate=0.006280779311255232\n",
      "Hyperparameters: num_filters1=90, num_filters2=99, dense_units=714, learning_rate=0.009958941432670837\n",
      "Hyperparameters: num_filters1=35, num_filters2=100, dense_units=564, learning_rate=0.009730418683771308\n",
      "Hyperparameters: num_filters1=57, num_filters2=99, dense_units=352, learning_rate=0.0011211526632025838\n"
     ]
    },
    {
     "name": "stderr",
     "output_type": "stream",
     "text": [
      "pyswarms.single.global_best:  95%|███████████████████████████████████████████████████████████▊   |19/20, best_cost=0.66"
     ]
    },
    {
     "name": "stdout",
     "output_type": "stream",
     "text": [
      "Hyperparameters: num_filters1=94, num_filters2=35, dense_units=712, learning_rate=0.0015418854090751767\n",
      "Hyperparameters: num_filters1=84, num_filters2=84, dense_units=676, learning_rate=0.007035585618503247\n",
      "Hyperparameters: num_filters1=45, num_filters2=16, dense_units=646, learning_rate=0.001832209758987725\n",
      "Hyperparameters: num_filters1=32, num_filters2=52, dense_units=599, learning_rate=0.004396930758159057\n",
      "Hyperparameters: num_filters1=98, num_filters2=79, dense_units=749, learning_rate=0.0022580177165208997\n",
      "Hyperparameters: num_filters1=117, num_filters2=36, dense_units=785, learning_rate=0.008849532342817691\n",
      "Hyperparameters: num_filters1=28, num_filters2=38, dense_units=733, learning_rate=0.0053946238528192695\n",
      "Hyperparameters: num_filters1=77, num_filters2=87, dense_units=271, learning_rate=0.0009893462930911927\n",
      "Hyperparameters: num_filters1=89, num_filters2=93, dense_units=670, learning_rate=0.008237118453249688\n",
      "Hyperparameters: num_filters1=74, num_filters2=54, dense_units=841, learning_rate=0.006607408530463847\n",
      "Hyperparameters: num_filters1=46, num_filters2=50, dense_units=694, learning_rate=0.006761916413810293\n",
      "Hyperparameters: num_filters1=21, num_filters2=78, dense_units=751, learning_rate=0.004062102336598993\n",
      "Hyperparameters: num_filters1=65, num_filters2=115, dense_units=841, learning_rate=0.002435837744777684\n",
      "Hyperparameters: num_filters1=112, num_filters2=107, dense_units=764, learning_rate=0.0028203898918066008\n",
      "Hyperparameters: num_filters1=58, num_filters2=33, dense_units=505, learning_rate=0.0037510225462106393\n",
      "Hyperparameters: num_filters1=19, num_filters2=57, dense_units=733, learning_rate=0.0035946515302797883\n",
      "Hyperparameters: num_filters1=57, num_filters2=44, dense_units=587, learning_rate=0.0035316479523220365\n",
      "Hyperparameters: num_filters1=50, num_filters2=53, dense_units=1000, learning_rate=0.004265168459275073\n",
      "Hyperparameters: num_filters1=76, num_filters2=49, dense_units=621, learning_rate=0.0074313930749999105\n",
      "Hyperparameters: num_filters1=60, num_filters2=81, dense_units=722, learning_rate=0.007919840699971405\n"
     ]
    },
    {
     "name": "stderr",
     "output_type": "stream",
     "text": [
      "pyswarms.single.global_best: 100%|███████████████████████████████████████████████████████████████|20/20, best_cost=0.66\n",
      "2023-05-01 05:24:34,013 - pyswarms.single.global_best - INFO - Optimization finished | best cost: 0.6599999964237213, best pos: [5.92077430e+01 3.56919945e+01 7.14401135e+02 7.05344306e-03]\n"
     ]
    },
    {
     "name": "stdout",
     "output_type": "stream",
     "text": [
      "Best hyperparameters found by PSO: num_filters1=59, num_filters2=35, dense_units=714, learning_rate=0.00705344305989917\n",
      "Training the model with the best hyperparameters\n",
      "Epoch 1/50\n",
      "704/704 [==============================] - 178s 251ms/step - loss: 1.6995 - accuracy: 0.4431 - val_loss: 1.5243 - val_accuracy: 0.4780\n",
      "Epoch 2/50\n",
      "704/704 [==============================] - 176s 250ms/step - loss: 1.1299 - accuracy: 0.5999 - val_loss: 1.1829 - val_accuracy: 0.5914\n",
      "Epoch 3/50\n",
      "704/704 [==============================] - 176s 250ms/step - loss: 0.9511 - accuracy: 0.6669 - val_loss: 1.0146 - val_accuracy: 0.6508\n",
      "Epoch 4/50\n",
      "704/704 [==============================] - 176s 251ms/step - loss: 0.8870 - accuracy: 0.6881 - val_loss: 0.8879 - val_accuracy: 0.6962\n",
      "Epoch 5/50\n",
      "704/704 [==============================] - 176s 250ms/step - loss: 0.8144 - accuracy: 0.7164 - val_loss: 1.1196 - val_accuracy: 0.6222\n",
      "Epoch 6/50\n",
      "704/704 [==============================] - 176s 250ms/step - loss: 0.7913 - accuracy: 0.7217 - val_loss: 0.8123 - val_accuracy: 0.7198\n",
      "Epoch 7/50\n",
      "704/704 [==============================] - 176s 250ms/step - loss: 0.7166 - accuracy: 0.7488 - val_loss: 1.1708 - val_accuracy: 0.6232\n",
      "Epoch 8/50\n",
      "704/704 [==============================] - 176s 250ms/step - loss: 0.6786 - accuracy: 0.7622 - val_loss: 0.7091 - val_accuracy: 0.7474\n",
      "Epoch 9/50\n",
      "704/704 [==============================] - 176s 250ms/step - loss: 0.6530 - accuracy: 0.7708 - val_loss: 0.7205 - val_accuracy: 0.7462\n",
      "Epoch 10/50\n",
      "704/704 [==============================] - 178s 252ms/step - loss: 0.6170 - accuracy: 0.7848 - val_loss: 0.6380 - val_accuracy: 0.7816\n",
      "Epoch 11/50\n",
      "704/704 [==============================] - 176s 251ms/step - loss: 0.5939 - accuracy: 0.7921 - val_loss: 0.6515 - val_accuracy: 0.7818\n",
      "Epoch 12/50\n",
      "704/704 [==============================] - 176s 250ms/step - loss: 0.5634 - accuracy: 0.8022 - val_loss: 0.6192 - val_accuracy: 0.7940\n",
      "Epoch 13/50\n",
      "704/704 [==============================] - 176s 250ms/step - loss: 0.5470 - accuracy: 0.8080 - val_loss: 0.6251 - val_accuracy: 0.7938\n",
      "Epoch 14/50\n",
      "704/704 [==============================] - 176s 250ms/step - loss: 0.5327 - accuracy: 0.8144 - val_loss: 0.6420 - val_accuracy: 0.7888\n",
      "Epoch 15/50\n",
      "704/704 [==============================] - 176s 250ms/step - loss: 0.5083 - accuracy: 0.8227 - val_loss: 0.8544 - val_accuracy: 0.7362\n",
      "Epoch 16/50\n",
      "704/704 [==============================] - 176s 250ms/step - loss: 0.5446 - accuracy: 0.8101 - val_loss: 0.6011 - val_accuracy: 0.7986\n",
      "Epoch 17/50\n",
      "704/704 [==============================] - 176s 250ms/step - loss: 0.4806 - accuracy: 0.8340 - val_loss: 0.6208 - val_accuracy: 0.7986\n",
      "Epoch 18/50\n",
      "704/704 [==============================] - 176s 250ms/step - loss: 0.4653 - accuracy: 0.8395 - val_loss: 0.6480 - val_accuracy: 0.7822\n",
      "Epoch 19/50\n",
      "704/704 [==============================] - 176s 250ms/step - loss: 0.4470 - accuracy: 0.8421 - val_loss: 0.6534 - val_accuracy: 0.7942\n",
      "Epoch 20/50\n",
      "704/704 [==============================] - 176s 250ms/step - loss: 0.4238 - accuracy: 0.8520 - val_loss: 0.6461 - val_accuracy: 0.7934\n",
      "Epoch 21/50\n",
      "704/704 [==============================] - 176s 250ms/step - loss: 0.4225 - accuracy: 0.8534 - val_loss: 0.6964 - val_accuracy: 0.7808\n",
      "Epoch 22/50\n",
      "704/704 [==============================] - 176s 250ms/step - loss: 0.4051 - accuracy: 0.8580 - val_loss: 0.5819 - val_accuracy: 0.8210\n",
      "Epoch 23/50\n",
      "704/704 [==============================] - 176s 250ms/step - loss: 0.4059 - accuracy: 0.8597 - val_loss: 0.6228 - val_accuracy: 0.8050\n",
      "Epoch 24/50\n",
      "704/704 [==============================] - 176s 250ms/step - loss: 0.3825 - accuracy: 0.8668 - val_loss: 0.6488 - val_accuracy: 0.7976\n",
      "Epoch 25/50\n",
      "704/704 [==============================] - 176s 250ms/step - loss: 0.3775 - accuracy: 0.8688 - val_loss: 0.6472 - val_accuracy: 0.7994\n",
      "Epoch 26/50\n",
      "704/704 [==============================] - 176s 250ms/step - loss: 0.3681 - accuracy: 0.8726 - val_loss: 0.6602 - val_accuracy: 0.8018\n",
      "Epoch 27/50\n",
      "704/704 [==============================] - 176s 250ms/step - loss: 0.4728 - accuracy: 0.8391 - val_loss: 0.6179 - val_accuracy: 0.8024\n",
      "Epoch 28/50\n",
      "704/704 [==============================] - 176s 250ms/step - loss: 0.3640 - accuracy: 0.8743 - val_loss: 0.5687 - val_accuracy: 0.8216\n",
      "Epoch 29/50\n",
      "704/704 [==============================] - 176s 250ms/step - loss: 0.3369 - accuracy: 0.8811 - val_loss: 0.7376 - val_accuracy: 0.7976\n",
      "Epoch 30/50\n",
      "704/704 [==============================] - 176s 250ms/step - loss: 0.4822 - accuracy: 0.8382 - val_loss: 0.5949 - val_accuracy: 0.8142\n",
      "Epoch 31/50\n",
      "704/704 [==============================] - 176s 250ms/step - loss: 0.3433 - accuracy: 0.8796 - val_loss: 0.6037 - val_accuracy: 0.8192\n",
      "Epoch 32/50\n",
      "704/704 [==============================] - 176s 250ms/step - loss: 0.3316 - accuracy: 0.8870 - val_loss: 0.6508 - val_accuracy: 0.8140\n",
      "Epoch 33/50\n",
      "704/704 [==============================] - 176s 250ms/step - loss: 0.3254 - accuracy: 0.8880 - val_loss: 0.6300 - val_accuracy: 0.8198\n",
      "Epoch 34/50\n",
      "704/704 [==============================] - 176s 250ms/step - loss: 0.3091 - accuracy: 0.8954 - val_loss: 0.6460 - val_accuracy: 0.8096\n",
      "Epoch 35/50\n",
      "704/704 [==============================] - 176s 250ms/step - loss: 0.3136 - accuracy: 0.8945 - val_loss: 0.7071 - val_accuracy: 0.7998\n",
      "Epoch 36/50\n",
      "704/704 [==============================] - 176s 250ms/step - loss: 0.3116 - accuracy: 0.8933 - val_loss: 0.6810 - val_accuracy: 0.8038\n",
      "Epoch 37/50\n",
      "704/704 [==============================] - 177s 251ms/step - loss: 0.3052 - accuracy: 0.8973 - val_loss: 0.6742 - val_accuracy: 0.8096\n",
      "Epoch 38/50\n",
      "704/704 [==============================] - 179s 255ms/step - loss: 0.3405 - accuracy: 0.8859 - val_loss: 0.6987 - val_accuracy: 0.8138\n",
      "Total training time: 6696.55 seconds\n",
      "Evaluating the model on the test dataset\n",
      "313/313 [==============================] - 11s 36ms/step\n",
      "Test accuracy: 0.8152999877929688\n",
      "Classification Report:\n",
      "              precision    recall  f1-score   support\n",
      "\n",
      "           0       0.85      0.79      0.82      1000\n",
      "           1       0.94      0.88      0.91      1000\n",
      "           2       0.72      0.72      0.72      1000\n",
      "           3       0.65      0.66      0.65      1000\n",
      "           4       0.76      0.84      0.80      1000\n",
      "           5       0.76      0.73      0.75      1000\n",
      "           6       0.87      0.86      0.86      1000\n",
      "           7       0.90      0.85      0.87      1000\n",
      "           8       0.85      0.92      0.88      1000\n",
      "           9       0.87      0.90      0.88      1000\n",
      "\n",
      "    accuracy                           0.82     10000\n",
      "   macro avg       0.82      0.82      0.82     10000\n",
      "weighted avg       0.82      0.82      0.82     10000\n",
      "\n",
      "Confusion Matrix:\n",
      "[[788   9  60  20   5   3   4   9  73  29]\n",
      " [ 11 879   4   2   2   3   4   1  30  64]\n",
      " [ 41   1 723  52  75  32  44  15  10   7]\n",
      " [  9   1  64 658  53 131  45  16  12  11]\n",
      " [  5   0  43  47 836  19  21  22   7   0]\n",
      " [  8   1  37 145  36 730   9  27   5   2]\n",
      " [  3   2  45  42  27   5 864   4   7   1]\n",
      " [  6   0  17  34  49  29   2 853   2   8]\n",
      " [ 33   5   7   8   5   3   3   0 922  14]\n",
      " [ 19  33   5  10   5   2   2   4  20 900]]\n",
      "ROC-AUC Score: 0.9814906666666665\n",
      "Plotting the training and validation accuracies\n"
     ]
    },
    {
     "data": {
      "image/png": "[encoded data removed]",
      "text/plain": [
       "<Figure size 640x480 with 1 Axes>"
      ]
     },
     "metadata": {},
     "output_type": "display_data"
    }
   ],
   "source": [
    "\n",
    "import numpy as np\n",
    "import matplotlib.pyplot as plt\n",
    "import tensorflow as tf\n",
    "import pyswarms as ps\n",
    "from functools import partial\n",
    "from sklearn.metrics import classification_report, confusion_matrix, roc_auc_score\n",
    "from tensorflow.keras.models import Sequential\n",
    "from tensorflow.keras.layers import Conv2D, MaxPooling2D, Flatten, Dense, Dropout, BatchNormalization\n",
    "from tensorflow.keras.optimizers import Adam\n",
    "from tensorflow.keras.callbacks import EarlyStopping\n",
    "import time\n",
    "\n",
    "# Load and preprocess the CIFAR-10 dataset\n",
    "print(\"Loading and preprocessing CIFAR-10 dataset\")\n",
    "(x_train, y_train), (x_test, y_test) = tf.keras.datasets.cifar10.load_data()\n",
    "x_train, x_test = x_train / 255.0, x_test / 255.0\n",
    "y_train, y_test = tf.keras.utils.to_categorical(y_train), tf.keras.utils.to_categorical(y_test)\n",
    "\n",
    "# Split the training data into train and validation sets\n",
    "print(\"Splitting the training data into train and validation sets\")\n",
    "validation_split = 0.1\n",
    "split_index = int(len(x_train) * validation_split)\n",
    "x_val, y_val = x_train[:split_index], y_train[:split_index]\n",
    "x_train, y_train = x_train[split_index:], y_train[split_index:]\n",
    "\n",
    "sample_size = 1000  # Adjust this value as needed\n",
    "sample_indices = np.random.choice(np.arange(x_train.shape[0]), sample_size, replace=False)\n",
    "\n",
    "x_train_small = x_train[sample_indices]\n",
    "y_train_small = y_train[sample_indices]\n",
    "\n",
    "split_index_small = int(len(x_train_small) * validation_split)\n",
    "x_val_small, y_val_small = x_train_small[:split_index_small], y_train_small[:split_index_small]\n",
    "x_train_small, y_train_small = x_train_small[split_index_small:], y_train_small[split_index_small:]\n",
    "\n",
    "# Define a fitness function to be optimized using PSO\n",
    "def fitness_function(hparams, x_train, y_train, x_val, y_val):\n",
    "    fitness_values = []\n",
    "    for hparam in hparams:\n",
    "        num_filters1, num_filters2, dense_units, learning_rate = hparam\n",
    "        num_filters1 = int(num_filters1)\n",
    "        num_filters2 = int(num_filters2)\n",
    "        dense_units = int(dense_units)\n",
    "        \n",
    "        print(f\"Hyperparameters: num_filters1={num_filters1}, \"\n",
    "              f\"num_filters2={num_filters2}, dense_units={dense_units}, \"\n",
    "              f\"learning_rate={learning_rate}\")\n",
    "\n",
    "        model = Sequential([\n",
    "            Conv2D(num_filters1, (3, 3), activation='relu', padding='same', input_shape=(32, 32, 3)),\n",
    "            BatchNormalization(),\n",
    "            Conv2D(num_filters1, (3, 3), activation='relu', padding='same'),\n",
    "            BatchNormalization(),\n",
    "            MaxPooling2D((2, 2)),\n",
    "            Dropout(0.25),\n",
    "\n",
    "            Conv2D(num_filters2, (3, 3), activation='relu', padding='same'),\n",
    "            BatchNormalization(),\n",
    "            Conv2D(num_filters2, (3, 3), activation='relu', padding='same'),\n",
    "            BatchNormalization(),\n",
    "            MaxPooling2D((2, 2)),\n",
    "            Dropout(0.25),\n",
    "\n",
    "            Flatten(),\n",
    "            Dense(dense_units, activation='relu'),\n",
    "            BatchNormalization(),\n",
    "            Dropout(0.5),\n",
    "            Dense(10, activation='softmax')\n",
    "        ])\n",
    "\n",
    "        model.compile(optimizer=Adam(learning_rate=learning_rate),\n",
    "                      loss='categorical_crossentropy',\n",
    "                      metrics=['accuracy'])\n",
    "\n",
    "        early_stopping = EarlyStopping(monitor='val_loss', patience=3, restore_best_weights=True)\n",
    "\n",
    "        history = model.fit(x_train, y_train, epochs=10, batch_size=64,\n",
    "                            validation_data=(x_val, y_val),\n",
    "                            callbacks=[early_stopping],\n",
    "                            verbose=0)\n",
    "\n",
    "        best_val_acc = max(history.history['val_accuracy'])\n",
    "        fitness_values.append(1 - best_val_acc)  # Minimize the fitness function (1 - val_accuracy)\n",
    "\n",
    "    return np.array(fitness_values)\n",
    "\n",
    "# Define the PSO search space for hyperparameters\n",
    "print(\"Defining the PSO search space for hyperparameters\")\n",
    "search_space_bounds = (np.array([16, 16, 128, 1e-5]),\n",
    "                       np.array([128, 128, 1024, 1e-2]))\n",
    "\n",
    "# Define the fitness function with fixed data arguments\n",
    "print(\"Defining the fitness function with fixed data arguments\")\n",
    "fitness_function_data = partial(fitness_function,\n",
    "                                x_train=x_train_small, y_train=y_train_small,\n",
    "                                x_val=x_val_small, y_val=y_val_small)\n",
    "\n",
    "# Initialize the PSO optimizer\n",
    "print(\"Initializing the PSO optimizer\")\n",
    "options = {'c1': 1.0, 'c2': 1.9, 'w': 0.8}\n",
    "optimizer = ps.single.GlobalBestPSO(n_particles=20, dimensions=4, options=options,\n",
    "                                    bounds=search_space_bounds)\n",
    "\n",
    "# Run the PSO optimizer\n",
    "print(\"Running the PSO optimizer\")\n",
    "cost, best_hyperparams = optimizer.optimize(fitness_function_data, iters=20)\n",
    "\n",
    "# Extract the best hyperparameters\n",
    "best_num_filters1, best_num_filters2, best_dense_units, best_learning_rate = best_hyperparams\n",
    "best_num_filters1 = int(best_num_filters1)\n",
    "best_num_filters2 = int(best_num_filters2)\n",
    "best_dense_units = int(best_dense_units)\n",
    "\n",
    "print(f\"Best hyperparameters found by PSO: num_filters1={best_num_filters1}, \"\n",
    "      f\"num_filters2={best_num_filters2}, dense_units={best_dense_units}, \"\n",
    "      f\"learning_rate={best_learning_rate}\")\n",
    "\n",
    "# Train the model with the best hyperparameters\n",
    "print(\"Training the model with the best hyperparameters\")\n",
    "model = Sequential([\n",
    "    Conv2D(best_num_filters1, (3, 3), activation='relu', padding='same', input_shape=(32, 32, 3)),\n",
    "    BatchNormalization(),\n",
    "    Conv2D(best_num_filters1, (3, 3), activation='relu', padding='same'),\n",
    "    BatchNormalization(),\n",
    "    MaxPooling2D((2, 2)),\n",
    "    Dropout(0.25),\n",
    "\n",
    "    Conv2D(best_num_filters2, (3, 3), activation='relu', padding='same'),\n",
    "    BatchNormalization(),\n",
    "    Conv2D(best_num_filters2, (3, 3), activation='relu', padding='same'),\n",
    "    BatchNormalization(),\n",
    "    MaxPooling2D((2, 2)),\n",
    "    Dropout(0.25),\n",
    "\n",
    "    Flatten(),\n",
    "    Dense(best_dense_units, activation='relu'),\n",
    "    BatchNormalization(),\n",
    "    Dropout(0.5),\n",
    "    Dense(10, activation='softmax')\n",
    "])\n",
    "\n",
    "model.compile(optimizer=Adam(learning_rate=best_learning_rate),\n",
    "              loss='categorical_crossentropy',\n",
    "              metrics=['accuracy'])\n",
    "\n",
    "early_stopping = EarlyStopping(monitor='val_loss', patience=10, restore_best_weights=True)\n",
    "start_time = time.time()\n",
    "\n",
    "history = model.fit(x_train, y_train, epochs=50, batch_size=64,\n",
    "                    validation_data=(x_val, y_val),\n",
    "                    callbacks=[early_stopping],\n",
    "                    verbose=1)\n",
    "end_time = time.time()\n",
    "\n",
    "training_time = end_time - start_time\n",
    "print(f'Total training time: {training_time:.2f} seconds')\n",
    "\n",
    "# Evaluate the model on the test dataset\n",
    "print(\"Evaluating the model on the test dataset\")\n",
    "test_loss, test_acc = model.evaluate(x_test, y_test, verbose=0)\n",
    "y_pred = model.predict(x_test)\n",
    "y_pred_classes = np.argmax(y_pred, axis=1)\n",
    "y_test_classes = np.argmax(y_test, axis=1)\n",
    "\n",
    "print(f'Test accuracy: {test_acc}')\n",
    "\n",
    "print(\"Classification Report:\")\n",
    "print(classification_report(y_test_classes, y_pred_classes))\n",
    "\n",
    "print(\"Confusion Matrix:\")\n",
    "print(confusion_matrix(y_test_classes, y_pred_classes))\n",
    "\n",
    "# Calculate ROC-AUC for multi-class classification\n",
    "roc_auc = roc_auc_score(y_test, y_pred, multi_class='ovr')\n",
    "print(f'ROC-AUC Score: {roc_auc}')\n",
    "\n",
    "# Plot the training and validation accuracies\n",
    "print(\"Plotting the training and validation accuracies\")\n",
    "plt.plot(history.history['accuracy'], label='Training accuracy')\n",
    "plt.plot(history.history['val_accuracy'], label='Validation accuracy')\n",
    "plt.title('Training and Validation Accuracy')\n",
    "plt.xlabel('Epoch')\n",
    "plt.ylabel('Accuracy')\n",
    "plt.legend()\n",
    "plt.show()"
   ]
  },
  {
   "cell_type": "code",
   "execution_count": 1,
   "id": "ed1f4ea2",
   "metadata": {},
   "outputs": [
    {
     "data": {
      "image/png": "[encoded data removed]",
      "text/plain": [
       "<Figure size 720x576 with 2 Axes>"
      ]
     },
     "metadata": {
      "needs_background": "light"
     },
     "output_type": "display_data"
    }
   ],
   "source": [
    "# Using these hardcoded values as obtained from confusion matrix above inorder to make a plot\n",
    "import numpy as np\n",
    "import matplotlib.pyplot as plt\n",
    "import seaborn as sns\n",
    "\n",
    "# Confusion matrix data\n",
    "confusion_matrix = np.array([\n",
    "    [788, 9, 60, 20, 5, 3, 4, 9, 73, 29],\n",
    "    [11, 879, 4, 2, 2, 3, 4, 1, 30, 64],\n",
    "    [41, 1, 723, 52, 75, 32, 44, 15, 10, 7],\n",
    "    [9, 1, 64, 658, 53, 131, 45, 16, 12, 11],\n",
    "    [5, 0, 43, 47, 836, 19, 21, 22, 7, 0],\n",
    "    [8, 1, 37, 145, 36, 730, 9, 27, 5, 2],\n",
    "    [3, 2, 45, 42, 27, 5, 864, 4, 7, 1],\n",
    "    [6, 0, 17, 34, 49, 29, 2, 853, 2, 8],\n",
    "    [33, 5, 7, 8, 5, 3, 3, 0, 922, 14],\n",
    "    [19, 33, 5, 10, 5, 2, 2, 4, 20, 900]\n",
    "])\n",
    "\n",
    "# Class names\n",
    "class_names = ['airplane', 'automobile', 'bird', 'cat', 'deer', 'dog', 'frog', 'horse', 'ship', 'truck']\n",
    "\n",
    "# Plot confusion matrix\n",
    "plt.figure(figsize=(10, 8))\n",
    "sns.heatmap(confusion_matrix, annot=True, fmt='d', cmap='Blues', xticklabels=class_names, yticklabels=class_names)\n",
    "plt.xlabel('Predicted')\n",
    "plt.ylabel('True')\n",
    "plt.title('Confusion Matrix')\n",
    "plt.show()"
   ]
  },
  {
   "cell_type": "code",
   "execution_count": null,
   "id": "d711c299",
   "metadata": {},
   "outputs": [],
   "source": []
  }
 ],
 "metadata": {
  "kernelspec": {
   "display_name": "Python 3 (ipykernel)",
   "language": "python",
   "name": "python3"
  },
  "language_info": {
   "codemirror_mode": {
    "name": "ipython",
    "version": 3
   },
   "file_extension": ".py",
   "mimetype": "text/x-python",
   "name": "python",
   "nbconvert_exporter": "python",
   "pygments_lexer": "ipython3",
   "version": "3.9.12"
  }
 },
 "nbformat": 4,
 "nbformat_minor": 5
}
