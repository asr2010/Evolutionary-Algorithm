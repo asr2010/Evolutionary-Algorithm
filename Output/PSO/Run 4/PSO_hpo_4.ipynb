{
 "cells": [
  {
   "cell_type": "code",
   "execution_count": 1,
   "id": "38011459",
   "metadata": {},
   "outputs": [
    {
     "name": "stdout",
     "output_type": "stream",
     "text": [
      "Loading and preprocessing CIFAR-10 dataset\n"
     ]
    },
    {
     "name": "stderr",
     "output_type": "stream",
     "text": [
      "2023-05-01 03:47:16,321 - pyswarms.single.global_best - INFO - Optimize for 20 iters with {'c1': 1.2, 'c2': 1.9, 'w': 0.7}\n"
     ]
    },
    {
     "name": "stdout",
     "output_type": "stream",
     "text": [
      "Splitting the training data into train and validation sets\n",
      "Defining the PSO search space for hyperparameters\n",
      "Defining the fitness function with fixed data arguments\n",
      "Initializing the PSO optimizer\n",
      "Running the PSO optimizer\n"
     ]
    },
    {
     "name": "stderr",
     "output_type": "stream",
     "text": [
      "\r",
      "pyswarms.single.global_best:   0%|                                                                                                                    |0/20"
     ]
    },
    {
     "name": "stdout",
     "output_type": "stream",
     "text": [
      "Hyperparameters: num_filters1=38, num_filters2=112, dense_units=237, learning_rate=0.009133368838021228\n",
      "Hyperparameters: num_filters1=106, num_filters2=18, dense_units=312, learning_rate=0.0040545086353481275\n",
      "Hyperparameters: num_filters1=89, num_filters2=110, dense_units=255, learning_rate=0.0028005722242921134\n",
      "Hyperparameters: num_filters1=55, num_filters2=77, dense_units=853, learning_rate=0.0070635890214979635\n",
      "Hyperparameters: num_filters1=45, num_filters2=94, dense_units=975, learning_rate=0.0008814534192897463\n",
      "Hyperparameters: num_filters1=88, num_filters2=95, dense_units=866, learning_rate=0.00516845922620963\n",
      "Hyperparameters: num_filters1=96, num_filters2=19, dense_units=842, learning_rate=0.0015928472460709903\n",
      "Hyperparameters: num_filters1=124, num_filters2=104, dense_units=541, learning_rate=0.006960486427534647\n",
      "Hyperparameters: num_filters1=53, num_filters2=117, dense_units=197, learning_rate=0.007056637710074378\n",
      "Hyperparameters: num_filters1=86, num_filters2=41, dense_units=203, learning_rate=0.003884576661222445\n",
      "Hyperparameters: num_filters1=119, num_filters2=65, dense_units=452, learning_rate=0.005697795821138426\n",
      "Hyperparameters: num_filters1=26, num_filters2=17, dense_units=561, learning_rate=0.008607625012657915\n",
      "Hyperparameters: num_filters1=72, num_filters2=34, dense_units=794, learning_rate=0.007224770969766557\n",
      "Hyperparameters: num_filters1=16, num_filters2=103, dense_units=567, learning_rate=0.004943624559998899\n",
      "Hyperparameters: num_filters1=117, num_filters2=73, dense_units=594, learning_rate=0.0009438940966291292\n",
      "Hyperparameters: num_filters1=112, num_filters2=91, dense_units=143, learning_rate=0.0017458929791410048\n",
      "Hyperparameters: num_filters1=114, num_filters2=107, dense_units=581, learning_rate=0.0011149733876236697\n",
      "Hyperparameters: num_filters1=78, num_filters2=24, dense_units=567, learning_rate=0.0002790055034351154\n",
      "Hyperparameters: num_filters1=46, num_filters2=88, dense_units=691, learning_rate=0.005810107526424686\n",
      "Hyperparameters: num_filters1=72, num_filters2=29, dense_units=810, learning_rate=2.856157409906706e-05\n"
     ]
    },
    {
     "name": "stderr",
     "output_type": "stream",
     "text": [
      "pyswarms.single.global_best:   5%|█████                                                                                               |1/20, best_cost=0.67"
     ]
    },
    {
     "name": "stdout",
     "output_type": "stream",
     "text": [
      "Hyperparameters: num_filters1=26, num_filters2=65, dense_units=269, learning_rate=0.0009171025514979306\n",
      "Hyperparameters: num_filters1=87, num_filters2=17, dense_units=431, learning_rate=0.006105458381237064\n",
      "Hyperparameters: num_filters1=118, num_filters2=73, dense_units=379, learning_rate=0.003133548824695179\n",
      "Hyperparameters: num_filters1=30, num_filters2=45, dense_units=368, learning_rate=0.0057428171037620605\n",
      "Hyperparameters: num_filters1=22, num_filters2=35, dense_units=317, learning_rate=0.00010386296534644699\n",
      "Hyperparameters: num_filters1=79, num_filters2=93, dense_units=425, learning_rate=0.006645095581112622\n",
      "Hyperparameters: num_filters1=116, num_filters2=19, dense_units=661, learning_rate=0.0030193089324502616\n",
      "Hyperparameters: num_filters1=51, num_filters2=25, dense_units=551, learning_rate=0.006935116172262374\n",
      "Hyperparameters: num_filters1=30, num_filters2=74, dense_units=525, learning_rate=0.002138237717266574\n",
      "Hyperparameters: num_filters1=37, num_filters2=23, dense_units=815, learning_rate=0.004584867608940897\n",
      "Hyperparameters: num_filters1=34, num_filters2=100, dense_units=659, learning_rate=0.0023766021637355032\n",
      "Hyperparameters: num_filters1=26, num_filters2=17, dense_units=562, learning_rate=0.0026877045697795165\n",
      "Hyperparameters: num_filters1=118, num_filters2=116, dense_units=526, learning_rate=0.005531579523843861\n",
      "Hyperparameters: num_filters1=17, num_filters2=105, dense_units=557, learning_rate=0.008408357441774353\n",
      "Hyperparameters: num_filters1=99, num_filters2=68, dense_units=534, learning_rate=0.0017655931041667809\n",
      "Hyperparameters: num_filters1=34, num_filters2=95, dense_units=213, learning_rate=0.009155466443942717\n",
      "Hyperparameters: num_filters1=88, num_filters2=85, dense_units=554, learning_rate=0.0009369276764532573\n",
      "Hyperparameters: num_filters1=41, num_filters2=124, dense_units=568, learning_rate=0.006675582525686875\n",
      "Hyperparameters: num_filters1=27, num_filters2=33, dense_units=578, learning_rate=0.0037618326548692284\n",
      "Hyperparameters: num_filters1=114, num_filters2=18, dense_units=679, learning_rate=0.0018402113824003718\n"
     ]
    },
    {
     "name": "stderr",
     "output_type": "stream",
     "text": [
      "pyswarms.single.global_best:  10%|██████████                                                                                          |2/20, best_cost=0.67"
     ]
    },
    {
     "name": "stdout",
     "output_type": "stream",
     "text": [
      "Hyperparameters: num_filters1=22, num_filters2=82, dense_units=576, learning_rate=0.009746442537713333\n",
      "Hyperparameters: num_filters1=78, num_filters2=17, dense_units=567, learning_rate=0.004291936911293726\n",
      "Hyperparameters: num_filters1=23, num_filters2=122, dense_units=767, learning_rate=0.007798915390887475\n",
      "Hyperparameters: num_filters1=35, num_filters2=114, dense_units=454, learning_rate=0.004158704921209318\n",
      "Hyperparameters: num_filters1=18, num_filters2=23, dense_units=1004, learning_rate=0.0071545518955497996\n",
      "Hyperparameters: num_filters1=69, num_filters2=98, dense_units=275, learning_rate=0.00197772865292239\n",
      "Hyperparameters: num_filters1=27, num_filters2=16, dense_units=505, learning_rate=0.005620372993588798\n",
      "Hyperparameters: num_filters1=118, num_filters2=60, dense_units=554, learning_rate=0.00953631525462351\n",
      "Hyperparameters: num_filters1=40, num_filters2=89, dense_units=569, learning_rate=0.008038388502016361\n",
      "Hyperparameters: num_filters1=106, num_filters2=118, dense_units=257, learning_rate=0.0007430418384097655\n",
      "Hyperparameters: num_filters1=31, num_filters2=18, dense_units=548, learning_rate=0.007242595913789054\n",
      "Hyperparameters: num_filters1=26, num_filters2=17, dense_units=561, learning_rate=0.0010874224833565403\n",
      "Hyperparameters: num_filters1=99, num_filters2=46, dense_units=628, learning_rate=0.008091595317299315\n",
      "Hyperparameters: num_filters1=30, num_filters2=116, dense_units=551, learning_rate=0.0068813481376031604\n",
      "Hyperparameters: num_filters1=63, num_filters2=39, dense_units=526, learning_rate=0.009195572525582788\n",
      "Hyperparameters: num_filters1=87, num_filters2=118, dense_units=523, learning_rate=0.0009030310230552824\n",
      "Hyperparameters: num_filters1=114, num_filters2=110, dense_units=542, learning_rate=0.007070460752128556\n",
      "Hyperparameters: num_filters1=110, num_filters2=92, dense_units=558, learning_rate=0.005271267028242486\n",
      "Hyperparameters: num_filters1=32, num_filters2=34, dense_units=534, learning_rate=0.009418467289622949\n",
      "Hyperparameters: num_filters1=33, num_filters2=122, dense_units=471, learning_rate=0.003706832984552992\n"
     ]
    },
    {
     "name": "stderr",
     "output_type": "stream",
     "text": [
      "pyswarms.single.global_best:  15%|███████████████                                                                                     |3/20, best_cost=0.67"
     ]
    },
    {
     "name": "stdout",
     "output_type": "stream",
     "text": [
      "Hyperparameters: num_filters1=36, num_filters2=124, dense_units=425, learning_rate=0.0025805890210663447\n",
      "Hyperparameters: num_filters1=35, num_filters2=17, dense_units=599, learning_rate=0.004231511575249912\n",
      "Hyperparameters: num_filters1=19, num_filters2=91, dense_units=581, learning_rate=0.0017023604142228283\n",
      "Hyperparameters: num_filters1=57, num_filters2=20, dense_units=895, learning_rate=0.0021498310451116055\n",
      "Hyperparameters: num_filters1=29, num_filters2=123, dense_units=808, learning_rate=0.0055586008483032075\n",
      "Hyperparameters: num_filters1=101, num_filters2=113, dense_units=843, learning_rate=0.006856663601199419\n",
      "Hyperparameters: num_filters1=109, num_filters2=127, dense_units=440, learning_rate=0.00310393298929834\n",
      "Hyperparameters: num_filters1=69, num_filters2=50, dense_units=567, learning_rate=0.005888256780394856\n",
      "Hyperparameters: num_filters1=29, num_filters2=53, dense_units=288, learning_rate=0.008631144023864001\n",
      "Hyperparameters: num_filters1=106, num_filters2=58, dense_units=363, learning_rate=0.008464753295866543\n",
      "Hyperparameters: num_filters1=22, num_filters2=72, dense_units=496, learning_rate=0.008266111538237352\n",
      "Hyperparameters: num_filters1=26, num_filters2=17, dense_units=561, learning_rate=0.0007967826804679231\n",
      "Hyperparameters: num_filters1=78, num_filters2=103, dense_units=847, learning_rate=0.0061595979819336275\n",
      "Hyperparameters: num_filters1=21, num_filters2=125, dense_units=556, learning_rate=0.006510386663212672\n",
      "Hyperparameters: num_filters1=81, num_filters2=110, dense_units=532, learning_rate=0.008330184909362924\n",
      "Hyperparameters: num_filters1=112, num_filters2=63, dense_units=558, learning_rate=0.0009092949770140115\n",
      "Hyperparameters: num_filters1=96, num_filters2=40, dense_units=555, learning_rate=0.006928504472309799\n",
      "Hyperparameters: num_filters1=37, num_filters2=72, dense_units=561, learning_rate=0.006700316276827307\n",
      "Hyperparameters: num_filters1=29, num_filters2=43, dense_units=619, learning_rate=0.008270994709878736\n",
      "Hyperparameters: num_filters1=42, num_filters2=102, dense_units=643, learning_rate=0.0009439003069636729\n"
     ]
    },
    {
     "name": "stderr",
     "output_type": "stream",
     "text": [
      "pyswarms.single.global_best:  20%|████████████████████                                                                                |4/20, best_cost=0.67"
     ]
    },
    {
     "name": "stdout",
     "output_type": "stream",
     "text": [
      "Hyperparameters: num_filters1=39, num_filters2=53, dense_units=220, learning_rate=0.0051504947559507155\n",
      "Hyperparameters: num_filters1=30, num_filters2=18, dense_units=441, learning_rate=0.004156762502831762\n",
      "Hyperparameters: num_filters1=53, num_filters2=91, dense_units=192, learning_rate=0.003566110266975627\n",
      "Hyperparameters: num_filters1=55, num_filters2=79, dense_units=803, learning_rate=0.006813388633850616\n",
      "Hyperparameters: num_filters1=37, num_filters2=121, dense_units=351, learning_rate=0.005960590023918511\n",
      "Hyperparameters: num_filters1=93, num_filters2=59, dense_units=745, learning_rate=0.009589256328429045\n",
      "Hyperparameters: num_filters1=74, num_filters2=100, dense_units=499, learning_rate=0.004662587570021668\n",
      "Hyperparameters: num_filters1=38, num_filters2=19, dense_units=553, learning_rate=0.0018364684953975472\n",
      "Hyperparameters: num_filters1=46, num_filters2=108, dense_units=962, learning_rate=0.007709583941893514\n",
      "Hyperparameters: num_filters1=125, num_filters2=106, dense_units=336, learning_rate=0.009992967568020523\n",
      "Hyperparameters: num_filters1=19, num_filters2=58, dense_units=519, learning_rate=0.0011294786449563385\n",
      "Hyperparameters: num_filters1=26, num_filters2=17, dense_units=562, learning_rate=0.007627579868114314\n",
      "Hyperparameters: num_filters1=96, num_filters2=59, dense_units=716, learning_rate=0.00289179275229802\n",
      "Hyperparameters: num_filters1=19, num_filters2=32, dense_units=566, learning_rate=0.0016068874786501993\n",
      "Hyperparameters: num_filters1=124, num_filters2=18, dense_units=568, learning_rate=0.004027202355323067\n",
      "Hyperparameters: num_filters1=102, num_filters2=126, dense_units=235, learning_rate=0.006709710186527348\n",
      "Hyperparameters: num_filters1=21, num_filters2=96, dense_units=569, learning_rate=0.0086481977145275\n",
      "Hyperparameters: num_filters1=113, num_filters2=55, dense_units=566, learning_rate=0.0011070748867179838\n",
      "Hyperparameters: num_filters1=24, num_filters2=24, dense_units=630, learning_rate=0.0050142310949272215\n",
      "Hyperparameters: num_filters1=63, num_filters2=37, dense_units=726, learning_rate=0.007016343572013134\n"
     ]
    },
    {
     "name": "stderr",
     "output_type": "stream",
     "text": [
      "pyswarms.single.global_best:  25%|█████████████████████████                                                                           |5/20, best_cost=0.67"
     ]
    },
    {
     "name": "stdout",
     "output_type": "stream",
     "text": [
      "Hyperparameters: num_filters1=20, num_filters2=110, dense_units=321, learning_rate=0.004642554345945583\n",
      "Hyperparameters: num_filters1=95, num_filters2=17, dense_units=476, learning_rate=0.0035773900638001476\n",
      "Hyperparameters: num_filters1=92, num_filters2=125, dense_units=417, learning_rate=0.0007859803240602326\n",
      "Hyperparameters: num_filters1=40, num_filters2=38, dense_units=339, learning_rate=0.003638838553815926\n",
      "Hyperparameters: num_filters1=26, num_filters2=94, dense_units=542, learning_rate=0.008186705053733518\n",
      "Hyperparameters: num_filters1=36, num_filters2=47, dense_units=128, learning_rate=0.003990144725141184\n",
      "Hyperparameters: num_filters1=96, num_filters2=61, dense_units=645, learning_rate=0.0012626819478157446\n",
      "Hyperparameters: num_filters1=102, num_filters2=43, dense_units=553, learning_rate=0.0017103367495859717\n",
      "Hyperparameters: num_filters1=60, num_filters2=33, dense_units=641, learning_rate=0.00978127507212503\n",
      "Hyperparameters: num_filters1=91, num_filters2=44, dense_units=136, learning_rate=0.00913689023674929\n",
      "Hyperparameters: num_filters1=30, num_filters2=46, dense_units=523, learning_rate=0.0020512150399828372\n",
      "Hyperparameters: num_filters1=26, num_filters2=17, dense_units=562, learning_rate=0.004652406395924602\n",
      "Hyperparameters: num_filters1=50, num_filters2=38, dense_units=449, learning_rate=0.0054668054551052\n",
      "Hyperparameters: num_filters1=28, num_filters2=115, dense_units=565, learning_rate=0.005105850475217458\n",
      "Hyperparameters: num_filters1=106, num_filters2=23, dense_units=549, learning_rate=0.0014379877171457078\n",
      "Hyperparameters: num_filters1=118, num_filters2=55, dense_units=188, learning_rate=0.0012551234226340414\n",
      "Hyperparameters: num_filters1=44, num_filters2=89, dense_units=576, learning_rate=0.006825347658042956\n",
      "Hyperparameters: num_filters1=21, num_filters2=123, dense_units=565, learning_rate=0.0077020707929304644\n",
      "Hyperparameters: num_filters1=24, num_filters2=26, dense_units=526, learning_rate=0.0056241534363074466\n",
      "Hyperparameters: num_filters1=73, num_filters2=116, dense_units=612, learning_rate=0.005689902650922793\n"
     ]
    },
    {
     "name": "stderr",
     "output_type": "stream",
     "text": [
      "pyswarms.single.global_best:  30%|██████████████████████████████                                                                      |6/20, best_cost=0.67"
     ]
    },
    {
     "name": "stdout",
     "output_type": "stream",
     "text": [
      "Hyperparameters: num_filters1=121, num_filters2=85, dense_units=566, learning_rate=0.003256414120843033\n",
      "Hyperparameters: num_filters1=123, num_filters2=17, dense_units=452, learning_rate=0.003531608078399012\n",
      "Hyperparameters: num_filters1=36, num_filters2=93, dense_units=705, learning_rate=0.007966877665267475\n",
      "Hyperparameters: num_filters1=26, num_filters2=58, dense_units=546, learning_rate=0.005198227310662348\n",
      "Hyperparameters: num_filters1=20, num_filters2=80, dense_units=775, learning_rate=0.0015114549526002619\n",
      "Hyperparameters: num_filters1=66, num_filters2=39, dense_units=899, learning_rate=0.0017321016752012892\n",
      "Hyperparameters: num_filters1=52, num_filters2=101, dense_units=513, learning_rate=0.004477384279734573\n",
      "Hyperparameters: num_filters1=20, num_filters2=56, dense_units=562, learning_rate=0.005708884231719188\n",
      "Hyperparameters: num_filters1=40, num_filters2=94, dense_units=395, learning_rate=0.00986367665711749\n",
      "Hyperparameters: num_filters1=72, num_filters2=68, dense_units=1023, learning_rate=0.005866753828872627\n",
      "Hyperparameters: num_filters1=25, num_filters2=72, dense_units=589, learning_rate=0.008618439544432968\n",
      "Hyperparameters: num_filters1=26, num_filters2=17, dense_units=561, learning_rate=0.008041026069217793\n",
      "Hyperparameters: num_filters1=24, num_filters2=62, dense_units=485, learning_rate=0.006714358794530003\n",
      "Hyperparameters: num_filters1=24, num_filters2=82, dense_units=555, learning_rate=0.0007902078241530564\n",
      "Hyperparameters: num_filters1=63, num_filters2=97, dense_units=534, learning_rate=0.008547270207040443\n",
      "Hyperparameters: num_filters1=64, num_filters2=48, dense_units=562, learning_rate=0.0005227397707222568\n",
      "Hyperparameters: num_filters1=99, num_filters2=104, dense_units=561, learning_rate=0.0009705676222395852\n",
      "Hyperparameters: num_filters1=35, num_filters2=31, dense_units=566, learning_rate=0.002326577479535136\n",
      "Hyperparameters: num_filters1=30, num_filters2=22, dense_units=522, learning_rate=0.008728282375642424\n",
      "Hyperparameters: num_filters1=106, num_filters2=86, dense_units=590, learning_rate=0.0015464999967859214\n"
     ]
    },
    {
     "name": "stderr",
     "output_type": "stream",
     "text": [
      "pyswarms.single.global_best:  35%|███████████████████████████████████                                                                 |7/20, best_cost=0.67"
     ]
    },
    {
     "name": "stdout",
     "output_type": "stream",
     "text": [
      "Hyperparameters: num_filters1=54, num_filters2=49, dense_units=510, learning_rate=0.003559087725296666\n",
      "Hyperparameters: num_filters1=62, num_filters2=17, dense_units=462, learning_rate=0.005467602225703886\n",
      "Hyperparameters: num_filters1=98, num_filters2=59, dense_units=689, learning_rate=0.007137705636953127\n",
      "Hyperparameters: num_filters1=39, num_filters2=71, dense_units=900, learning_rate=0.006088112587968431\n",
      "Hyperparameters: num_filters1=19, num_filters2=118, dense_units=841, learning_rate=0.0043715852146181\n",
      "Hyperparameters: num_filters1=92, num_filters2=97, dense_units=793, learning_rate=0.008254965316909628\n",
      "Hyperparameters: num_filters1=91, num_filters2=54, dense_units=500, learning_rate=0.009496127415603994\n",
      "Hyperparameters: num_filters1=73, num_filters2=114, dense_units=557, learning_rate=0.0018589728666639498\n",
      "Hyperparameters: num_filters1=120, num_filters2=126, dense_units=609, learning_rate=0.002361003852861782\n",
      "Hyperparameters: num_filters1=112, num_filters2=20, dense_units=852, learning_rate=0.009408204006823358\n",
      "Hyperparameters: num_filters1=23, num_filters2=62, dense_units=624, learning_rate=0.001215114119926522\n",
      "Hyperparameters: num_filters1=26, num_filters2=17, dense_units=561, learning_rate=0.003697894180263114\n",
      "Hyperparameters: num_filters1=45, num_filters2=72, dense_units=778, learning_rate=0.0002773177267673091\n",
      "Hyperparameters: num_filters1=18, num_filters2=18, dense_units=560, learning_rate=0.003746371640910825\n",
      "Hyperparameters: num_filters1=113, num_filters2=75, dense_units=531, learning_rate=0.0023673443661124\n",
      "Hyperparameters: num_filters1=44, num_filters2=50, dense_units=700, learning_rate=0.0010813802061074005\n",
      "Hyperparameters: num_filters1=99, num_filters2=74, dense_units=557, learning_rate=0.003184376721313559\n",
      "Hyperparameters: num_filters1=112, num_filters2=92, dense_units=565, learning_rate=0.00446899996928256\n",
      "Hyperparameters: num_filters1=28, num_filters2=24, dense_units=623, learning_rate=0.007427406464809138\n",
      "Hyperparameters: num_filters1=41, num_filters2=22, dense_units=670, learning_rate=0.0050427198810976785\n"
     ]
    },
    {
     "name": "stderr",
     "output_type": "stream",
     "text": [
      "pyswarms.single.global_best:  40%|████████████████████████████████████████                                                            |8/20, best_cost=0.67"
     ]
    },
    {
     "name": "stdout",
     "output_type": "stream",
     "text": [
      "Hyperparameters: num_filters1=114, num_filters2=45, dense_units=515, learning_rate=0.008775595878471636\n",
      "Hyperparameters: num_filters1=20, num_filters2=17, dense_units=571, learning_rate=0.0004411380785274894\n",
      "Hyperparameters: num_filters1=118, num_filters2=118, dense_units=563, learning_rate=0.002547006217757317\n",
      "Hyperparameters: num_filters1=46, num_filters2=82, dense_units=886, learning_rate=0.0016959588191962503\n",
      "Hyperparameters: num_filters1=31, num_filters2=110, dense_units=666, learning_rate=0.001513001240390725\n",
      "Hyperparameters: num_filters1=51, num_filters2=97, dense_units=851, learning_rate=0.004096585329543354\n",
      "Hyperparameters: num_filters1=114, num_filters2=119, dense_units=492, learning_rate=0.00014898217816949755\n",
      "Hyperparameters: num_filters1=21, num_filters2=79, dense_units=556, learning_rate=0.0063293825550783285\n",
      "Hyperparameters: num_filters1=93, num_filters2=82, dense_units=822, learning_rate=0.00672020173473897\n",
      "Hyperparameters: num_filters1=20, num_filters2=77, dense_units=205, learning_rate=0.00022638724025427845\n",
      "Hyperparameters: num_filters1=25, num_filters2=41, dense_units=499, learning_rate=0.009513922693177017\n",
      "Hyperparameters: num_filters1=26, num_filters2=17, dense_units=562, learning_rate=0.0073519951913058115\n",
      "Hyperparameters: num_filters1=95, num_filters2=30, dense_units=896, learning_rate=0.003004878660252616\n",
      "Hyperparameters: num_filters1=27, num_filters2=80, dense_units=565, learning_rate=0.006910411996530263\n",
      "Hyperparameters: num_filters1=83, num_filters2=126, dense_units=572, learning_rate=0.001674811560712418\n",
      "Hyperparameters: num_filters1=108, num_filters2=41, dense_units=250, learning_rate=0.007126813472578269\n",
      "Hyperparameters: num_filters1=22, num_filters2=85, dense_units=566, learning_rate=0.00797072029929022\n",
      "Hyperparameters: num_filters1=107, num_filters2=72, dense_units=562, learning_rate=0.009364929049768862\n",
      "Hyperparameters: num_filters1=24, num_filters2=24, dense_units=603, learning_rate=0.004365487242159393\n",
      "Hyperparameters: num_filters1=27, num_filters2=55, dense_units=692, learning_rate=0.007728860349726996\n"
     ]
    },
    {
     "name": "stderr",
     "output_type": "stream",
     "text": [
      "pyswarms.single.global_best:  45%|█████████████████████████████████████████████                                                       |9/20, best_cost=0.67"
     ]
    },
    {
     "name": "stdout",
     "output_type": "stream",
     "text": [
      "Hyperparameters: num_filters1=53, num_filters2=88, dense_units=544, learning_rate=0.0038668758278734756\n",
      "Hyperparameters: num_filters1=45, num_filters2=17, dense_units=567, learning_rate=0.008245762849848058\n",
      "Hyperparameters: num_filters1=77, num_filters2=31, dense_units=561, learning_rate=0.002846906315561617\n",
      "Hyperparameters: num_filters1=26, num_filters2=40, dense_units=609, learning_rate=0.002787108933399889\n",
      "Hyperparameters: num_filters1=36, num_filters2=60, dense_units=544, learning_rate=0.008813515857780325\n",
      "Hyperparameters: num_filters1=50, num_filters2=96, dense_units=830, learning_rate=0.008662779071626277\n",
      "Hyperparameters: num_filters1=127, num_filters2=98, dense_units=527, learning_rate=0.004129646263728011\n",
      "Hyperparameters: num_filters1=47, num_filters2=71, dense_units=556, learning_rate=0.007496808969261448\n",
      "Hyperparameters: num_filters1=93, num_filters2=55, dense_units=975, learning_rate=0.009837362806270586\n",
      "Hyperparameters: num_filters1=18, num_filters2=79, dense_units=771, learning_rate=0.0023876375523745872\n",
      "Hyperparameters: num_filters1=28, num_filters2=68, dense_units=518, learning_rate=0.0038072413256740674\n",
      "Hyperparameters: num_filters1=26, num_filters2=17, dense_units=562, learning_rate=0.0036244083054999547\n",
      "Hyperparameters: num_filters1=79, num_filters2=48, dense_units=872, learning_rate=0.006654932413273687\n",
      "Hyperparameters: num_filters1=32, num_filters2=87, dense_units=558, learning_rate=0.007238288728884856\n",
      "Hyperparameters: num_filters1=96, num_filters2=107, dense_units=546, learning_rate=0.006071327803134012\n",
      "Hyperparameters: num_filters1=40, num_filters2=98, dense_units=381, learning_rate=0.0007168358527084502\n",
      "Hyperparameters: num_filters1=40, num_filters2=56, dense_units=572, learning_rate=0.004390627179653345\n",
      "Hyperparameters: num_filters1=115, num_filters2=62, dense_units=559, learning_rate=0.009666827918744902\n",
      "Hyperparameters: num_filters1=23, num_filters2=38, dense_units=562, learning_rate=0.0032480414509734015\n",
      "Hyperparameters: num_filters1=64, num_filters2=74, dense_units=609, learning_rate=0.0051177047447609515\n"
     ]
    },
    {
     "name": "stderr",
     "output_type": "stream",
     "text": [
      "pyswarms.single.global_best:  50%|█████████████████████████████████████████████████▌                                                 |10/20, best_cost=0.67"
     ]
    },
    {
     "name": "stdout",
     "output_type": "stream",
     "text": [
      "Hyperparameters: num_filters1=25, num_filters2=100, dense_units=532, learning_rate=0.006362010353354423\n",
      "Hyperparameters: num_filters1=108, num_filters2=17, dense_units=556, learning_rate=0.007465399095538889\n",
      "Hyperparameters: num_filters1=126, num_filters2=37, dense_units=703, learning_rate=0.0019165620193706307\n",
      "Hyperparameters: num_filters1=17, num_filters2=78, dense_units=489, learning_rate=0.0015718601664169306\n",
      "Hyperparameters: num_filters1=126, num_filters2=69, dense_units=690, learning_rate=0.009780928068999599\n",
      "Hyperparameters: num_filters1=73, num_filters2=56, dense_units=507, learning_rate=0.0006058684677780969\n",
      "Hyperparameters: num_filters1=71, num_filters2=88, dense_units=600, learning_rate=0.00816269566711277\n",
      "Hyperparameters: num_filters1=76, num_filters2=82, dense_units=560, learning_rate=0.008884104057843699\n",
      "Hyperparameters: num_filters1=122, num_filters2=24, dense_units=178, learning_rate=0.009532115464649625\n",
      "Hyperparameters: num_filters1=45, num_filters2=24, dense_units=960, learning_rate=0.004159707978884977\n",
      "Hyperparameters: num_filters1=28, num_filters2=70, dense_units=576, learning_rate=0.008955792539657429\n",
      "Hyperparameters: num_filters1=26, num_filters2=17, dense_units=561, learning_rate=0.008646165870131861\n",
      "Hyperparameters: num_filters1=123, num_filters2=65, dense_units=301, learning_rate=0.008681388400698133\n",
      "Hyperparameters: num_filters1=121, num_filters2=92, dense_units=552, learning_rate=0.008461805274550899\n",
      "Hyperparameters: num_filters1=42, num_filters2=102, dense_units=536, learning_rate=0.002150676862786798\n",
      "Hyperparameters: num_filters1=61, num_filters2=82, dense_units=494, learning_rate=0.00957136451841066\n",
      "Hyperparameters: num_filters1=117, num_filters2=31, dense_units=573, learning_rate=0.0037742040592229687\n",
      "Hyperparameters: num_filters1=44, num_filters2=31, dense_units=558, learning_rate=0.008982864448071117\n",
      "Hyperparameters: num_filters1=28, num_filters2=124, dense_units=566, learning_rate=0.009061752109948265\n",
      "Hyperparameters: num_filters1=59, num_filters2=62, dense_units=644, learning_rate=0.00012360075681358592\n"
     ]
    },
    {
     "name": "stderr",
     "output_type": "stream",
     "text": [
      "pyswarms.single.global_best:  55%|██████████████████████████████████████████████████████▍                                            |11/20, best_cost=0.66"
     ]
    },
    {
     "name": "stdout",
     "output_type": "stream",
     "text": [
      "Hyperparameters: num_filters1=23, num_filters2=89, dense_units=548, learning_rate=0.00926882753056993\n",
      "Hyperparameters: num_filters1=33, num_filters2=93, dense_units=449, learning_rate=0.009599051077214127\n",
      "Hyperparameters: num_filters1=96, num_filters2=52, dense_units=790, learning_rate=0.006443387154305915\n",
      "Hyperparameters: num_filters1=115, num_filters2=32, dense_units=904, learning_rate=0.0026064083185955993\n",
      "Hyperparameters: num_filters1=71, num_filters2=121, dense_units=729, learning_rate=0.0005802526951533761\n",
      "Hyperparameters: num_filters1=127, num_filters2=101, dense_units=481, learning_rate=0.0037921568403993006\n",
      "Hyperparameters: num_filters1=111, num_filters2=123, dense_units=531, learning_rate=0.009377932958311588\n",
      "Hyperparameters: num_filters1=62, num_filters2=45, dense_units=563, learning_rate=0.0008642106198512721\n",
      "Hyperparameters: num_filters1=57, num_filters2=101, dense_units=835, learning_rate=1.2200862200155835e-05\n",
      "Hyperparameters: num_filters1=23, num_filters2=27, dense_units=646, learning_rate=0.007754449269565408\n",
      "Hyperparameters: num_filters1=34, num_filters2=108, dense_units=595, learning_rate=0.006328431324524467\n",
      "Hyperparameters: num_filters1=39, num_filters2=26, dense_units=559, learning_rate=0.006402273411830849\n",
      "Hyperparameters: num_filters1=60, num_filters2=52, dense_units=340, learning_rate=0.001198521835254381\n",
      "Hyperparameters: num_filters1=67, num_filters2=43, dense_units=562, learning_rate=0.0006038858248632113\n",
      "Hyperparameters: num_filters1=118, num_filters2=28, dense_units=550, learning_rate=0.004980028011826915\n",
      "Hyperparameters: num_filters1=27, num_filters2=72, dense_units=403, learning_rate=0.0027038729955054454\n",
      "Hyperparameters: num_filters1=17, num_filters2=47, dense_units=558, learning_rate=0.000769833450352453\n",
      "Hyperparameters: num_filters1=94, num_filters2=16, dense_units=559, learning_rate=0.0024553280718401346\n",
      "Hyperparameters: num_filters1=119, num_filters2=62, dense_units=593, learning_rate=0.0036645765404552046\n",
      "Hyperparameters: num_filters1=97, num_filters2=31, dense_units=742, learning_rate=0.001988467848931926\n"
     ]
    },
    {
     "name": "stderr",
     "output_type": "stream",
     "text": [
      "pyswarms.single.global_best:  60%|███████████████████████████████████████████████████████████▍                                       |12/20, best_cost=0.66"
     ]
    },
    {
     "name": "stdout",
     "output_type": "stream",
     "text": [
      "Hyperparameters: num_filters1=31, num_filters2=28, dense_units=580, learning_rate=0.004636299449595229\n",
      "Hyperparameters: num_filters1=95, num_filters2=27, dense_units=497, learning_rate=0.007082873234910801\n",
      "Hyperparameters: num_filters1=99, num_filters2=121, dense_units=613, learning_rate=0.009864557617377645\n",
      "Hyperparameters: num_filters1=40, num_filters2=115, dense_units=612, learning_rate=0.00488863867413214\n",
      "Hyperparameters: num_filters1=96, num_filters2=121, dense_units=538, learning_rate=0.0026454985355938783\n",
      "Hyperparameters: num_filters1=48, num_filters2=20, dense_units=702, learning_rate=0.008158575262609382\n",
      "Hyperparameters: num_filters1=74, num_filters2=84, dense_units=489, learning_rate=0.0008501268255654702\n",
      "Hyperparameters: num_filters1=47, num_filters2=113, dense_units=563, learning_rate=0.0070065038235415395\n",
      "Hyperparameters: num_filters1=60, num_filters2=62, dense_units=214, learning_rate=0.0007308030023029225\n",
      "Hyperparameters: num_filters1=70, num_filters2=41, dense_units=328, learning_rate=0.004281261047315375\n",
      "Hyperparameters: num_filters1=28, num_filters2=103, dense_units=544, learning_rate=0.0024498798579473996\n",
      "Hyperparameters: num_filters1=56, num_filters2=38, dense_units=560, learning_rate=0.0015100878561139616\n",
      "Hyperparameters: num_filters1=103, num_filters2=28, dense_units=455, learning_rate=0.008108197485134042\n",
      "Hyperparameters: num_filters1=43, num_filters2=54, dense_units=565, learning_rate=0.002486513411951816\n",
      "Hyperparameters: num_filters1=91, num_filters2=23, dense_units=550, learning_rate=0.009242249002127128\n",
      "Hyperparameters: num_filters1=54, num_filters2=102, dense_units=409, learning_rate=0.0006901946331553184\n",
      "Hyperparameters: num_filters1=99, num_filters2=107, dense_units=554, learning_rate=0.004299162423353533\n",
      "Hyperparameters: num_filters1=31, num_filters2=125, dense_units=561, learning_rate=0.00019823400983492\n",
      "Hyperparameters: num_filters1=117, num_filters2=70, dense_units=570, learning_rate=0.006768584984541146\n",
      "Hyperparameters: num_filters1=33, num_filters2=127, dense_units=647, learning_rate=0.007723619668225172\n"
     ]
    },
    {
     "name": "stderr",
     "output_type": "stream",
     "text": [
      "pyswarms.single.global_best:  65%|████████████████████████████████████████████████████████████████▎                                  |13/20, best_cost=0.62"
     ]
    },
    {
     "name": "stdout",
     "output_type": "stream",
     "text": [
      "Hyperparameters: num_filters1=37, num_filters2=52, dense_units=623, learning_rate=0.003565039263576535\n",
      "Hyperparameters: num_filters1=96, num_filters2=44, dense_units=736, learning_rate=0.004062732502711958\n",
      "Hyperparameters: num_filters1=73, num_filters2=56, dense_units=594, learning_rate=0.009834282691935656\n",
      "Hyperparameters: num_filters1=71, num_filters2=95, dense_units=464, learning_rate=0.0062008349111043765\n",
      "Hyperparameters: num_filters1=126, num_filters2=121, dense_units=634, learning_rate=0.0022667473572074996\n",
      "Hyperparameters: num_filters1=89, num_filters2=90, dense_units=128, learning_rate=0.004665253891790688\n",
      "Hyperparameters: num_filters1=55, num_filters2=21, dense_units=640, learning_rate=0.0035204299680261096\n",
      "Hyperparameters: num_filters1=119, num_filters2=68, dense_units=571, learning_rate=0.00672764404563877\n",
      "Hyperparameters: num_filters1=31, num_filters2=61, dense_units=133, learning_rate=0.0040523351004947816\n",
      "Hyperparameters: num_filters1=40, num_filters2=46, dense_units=632, learning_rate=0.0058661455263595095\n",
      "Hyperparameters: num_filters1=26, num_filters2=125, dense_units=638, learning_rate=0.005817458718199416\n",
      "Hyperparameters: num_filters1=23, num_filters2=58, dense_units=680, learning_rate=0.008179139276896162\n",
      "Hyperparameters: num_filters1=91, num_filters2=36, dense_units=810, learning_rate=0.003951099392549735\n",
      "Hyperparameters: num_filters1=62, num_filters2=103, dense_units=607, learning_rate=0.00857992467440759\n",
      "Hyperparameters: num_filters1=46, num_filters2=35, dense_units=553, learning_rate=0.005124826356629624\n",
      "Hyperparameters: num_filters1=117, num_filters2=31, dense_units=454, learning_rate=0.005873611976988111\n",
      "Hyperparameters: num_filters1=54, num_filters2=30, dense_units=704, learning_rate=0.005684669246478209\n",
      "Hyperparameters: num_filters1=35, num_filters2=78, dense_units=574, learning_rate=0.008830905385423167\n",
      "Hyperparameters: num_filters1=103, num_filters2=44, dense_units=687, learning_rate=0.004779387429654471\n",
      "Hyperparameters: num_filters1=101, num_filters2=117, dense_units=580, learning_rate=0.005744225941730444\n"
     ]
    },
    {
     "name": "stderr",
     "output_type": "stream",
     "text": [
      "pyswarms.single.global_best:  70%|█████████████████████████████████████████████████████████████████████▎                             |14/20, best_cost=0.62"
     ]
    },
    {
     "name": "stdout",
     "output_type": "stream",
     "text": [
      "Hyperparameters: num_filters1=23, num_filters2=87, dense_units=574, learning_rate=0.00028574433195906234\n",
      "Hyperparameters: num_filters1=51, num_filters2=24, dense_units=593, learning_rate=0.0065886087253252\n",
      "Hyperparameters: num_filters1=60, num_filters2=42, dense_units=754, learning_rate=0.008937253717293451\n",
      "Hyperparameters: num_filters1=103, num_filters2=109, dense_units=928, learning_rate=0.0008351954884059207\n",
      "Hyperparameters: num_filters1=28, num_filters2=27, dense_units=718, learning_rate=0.00766184476072717\n",
      "Hyperparameters: num_filters1=74, num_filters2=73, dense_units=887, learning_rate=0.0043043354717433105\n",
      "Hyperparameters: num_filters1=52, num_filters2=42, dense_units=693, learning_rate=0.0016543414383722384\n",
      "Hyperparameters: num_filters1=126, num_filters2=58, dense_units=574, learning_rate=0.002923823974549583\n",
      "Hyperparameters: num_filters1=50, num_filters2=105, dense_units=377, learning_rate=0.006412797581805933\n",
      "Hyperparameters: num_filters1=77, num_filters2=110, dense_units=204, learning_rate=0.0037423427854177444\n",
      "Hyperparameters: num_filters1=33, num_filters2=59, dense_units=667, learning_rate=0.004101597440498064\n",
      "Hyperparameters: num_filters1=22, num_filters2=95, dense_units=722, learning_rate=0.006041547992773908\n",
      "Hyperparameters: num_filters1=34, num_filters2=114, dense_units=931, learning_rate=0.009768552348151377\n",
      "Hyperparameters: num_filters1=96, num_filters2=55, dense_units=621, learning_rate=0.006563910553644055\n",
      "Hyperparameters: num_filters1=84, num_filters2=67, dense_units=698, learning_rate=0.007834636895083924\n",
      "Hyperparameters: num_filters1=76, num_filters2=58, dense_units=680, learning_rate=0.005276216739472098\n",
      "Hyperparameters: num_filters1=44, num_filters2=122, dense_units=607, learning_rate=9.405252527928994e-05\n",
      "Hyperparameters: num_filters1=93, num_filters2=38, dense_units=576, learning_rate=0.007456210595611726\n",
      "Hyperparameters: num_filters1=60, num_filters2=103, dense_units=664, learning_rate=0.0031594722549111724\n",
      "Hyperparameters: num_filters1=98, num_filters2=123, dense_units=654, learning_rate=0.0012028208935522086\n"
     ]
    },
    {
     "name": "stderr",
     "output_type": "stream",
     "text": [
      "pyswarms.single.global_best:  75%|██████████████████████████████████████████████████████████████████████████▎                        |15/20, best_cost=0.62"
     ]
    },
    {
     "name": "stdout",
     "output_type": "stream",
     "text": [
      "Hyperparameters: num_filters1=19, num_filters2=70, dense_units=619, learning_rate=0.009961727704332431\n",
      "Hyperparameters: num_filters1=35, num_filters2=78, dense_units=464, learning_rate=0.007104429338784952\n",
      "Hyperparameters: num_filters1=88, num_filters2=92, dense_units=729, learning_rate=0.0026521786803835796\n",
      "Hyperparameters: num_filters1=102, num_filters2=103, dense_units=1022, learning_rate=0.0017949632354720278\n",
      "Hyperparameters: num_filters1=72, num_filters2=125, dense_units=731, learning_rate=0.003524076707226709\n",
      "Hyperparameters: num_filters1=107, num_filters2=72, dense_units=166, learning_rate=0.0009637222906643613\n",
      "Hyperparameters: num_filters1=93, num_filters2=114, dense_units=622, learning_rate=0.006890888014762142\n",
      "Hyperparameters: num_filters1=108, num_filters2=127, dense_units=674, learning_rate=0.0028640126159466058\n",
      "Hyperparameters: num_filters1=56, num_filters2=119, dense_units=343, learning_rate=0.0074130559976857\n",
      "Hyperparameters: num_filters1=43, num_filters2=104, dense_units=884, learning_rate=0.00467600601584401\n",
      "Hyperparameters: num_filters1=31, num_filters2=126, dense_units=647, learning_rate=0.00031412769105034323\n",
      "Hyperparameters: num_filters1=34, num_filters2=92, dense_units=588, learning_rate=0.008825287503113429\n",
      "Hyperparameters: num_filters1=82, num_filters2=66, dense_units=617, learning_rate=0.00644880545415487\n",
      "Hyperparameters: num_filters1=53, num_filters2=49, dense_units=592, learning_rate=0.0019520716632269249\n",
      "Hyperparameters: num_filters1=86, num_filters2=104, dense_units=645, learning_rate=0.006528480590140844\n",
      "Hyperparameters: num_filters1=105, num_filters2=80, dense_units=494, learning_rate=0.0013617045505548851\n",
      "Hyperparameters: num_filters1=60, num_filters2=51, dense_units=600, learning_rate=0.005374749017705686\n",
      "Hyperparameters: num_filters1=95, num_filters2=115, dense_units=655, learning_rate=0.0030671219155917373\n",
      "Hyperparameters: num_filters1=38, num_filters2=98, dense_units=638, learning_rate=0.0072359337593643925\n",
      "Hyperparameters: num_filters1=93, num_filters2=28, dense_units=696, learning_rate=0.007192500060221334\n"
     ]
    },
    {
     "name": "stderr",
     "output_type": "stream",
     "text": [
      "pyswarms.single.global_best:  80%|███████████████████████████████████████████████████████████████████████████████▏                   |16/20, best_cost=0.62"
     ]
    },
    {
     "name": "stdout",
     "output_type": "stream",
     "text": [
      "Hyperparameters: num_filters1=31, num_filters2=38, dense_units=662, learning_rate=0.0036605534131422643\n",
      "Hyperparameters: num_filters1=54, num_filters2=36, dense_units=511, learning_rate=0.007278478219931736\n",
      "Hyperparameters: num_filters1=119, num_filters2=29, dense_units=614, learning_rate=0.002425556359246101\n",
      "Hyperparameters: num_filters1=78, num_filters2=39, dense_units=816, learning_rate=0.009726789438522973\n",
      "Hyperparameters: num_filters1=47, num_filters2=36, dense_units=686, learning_rate=0.00784597262078131\n",
      "Hyperparameters: num_filters1=33, num_filters2=38, dense_units=213, learning_rate=0.007954062597247598\n",
      "Hyperparameters: num_filters1=127, num_filters2=107, dense_units=481, learning_rate=0.00700371613886751\n",
      "Hyperparameters: num_filters1=68, num_filters2=42, dense_units=609, learning_rate=0.006404881683147139\n",
      "Hyperparameters: num_filters1=64, num_filters2=75, dense_units=203, learning_rate=0.002216041096141965\n",
      "Hyperparameters: num_filters1=111, num_filters2=62, dense_units=738, learning_rate=0.001982105735784234\n",
      "Hyperparameters: num_filters1=31, num_filters2=50, dense_units=589, learning_rate=0.0063046651493084225\n",
      "Hyperparameters: num_filters1=36, num_filters2=81, dense_units=508, learning_rate=0.007216388537069558\n",
      "Hyperparameters: num_filters1=117, num_filters2=32, dense_units=997, learning_rate=0.001263256453966331\n",
      "Hyperparameters: num_filters1=61, num_filters2=40, dense_units=594, learning_rate=0.008214302575131704\n",
      "Hyperparameters: num_filters1=59, num_filters2=85, dense_units=571, learning_rate=0.004265954613312214\n",
      "Hyperparameters: num_filters1=127, num_filters2=82, dense_units=428, learning_rate=0.0067370947477718695\n",
      "Hyperparameters: num_filters1=55, num_filters2=39, dense_units=644, learning_rate=0.005206766613010477\n",
      "Hyperparameters: num_filters1=61, num_filters2=37, dense_units=658, learning_rate=0.009301236446220199\n",
      "Hyperparameters: num_filters1=43, num_filters2=83, dense_units=622, learning_rate=0.004855895838980575\n",
      "Hyperparameters: num_filters1=86, num_filters2=86, dense_units=632, learning_rate=0.006629944195291873\n"
     ]
    },
    {
     "name": "stderr",
     "output_type": "stream",
     "text": [
      "pyswarms.single.global_best:  85%|████████████████████████████████████████████████████████████████████████████████████▏              |17/20, best_cost=0.62"
     ]
    },
    {
     "name": "stdout",
     "output_type": "stream",
     "text": [
      "Hyperparameters: num_filters1=33, num_filters2=87, dense_units=629, learning_rate=0.0068902494749291335\n",
      "Hyperparameters: num_filters1=61, num_filters2=48, dense_units=733, learning_rate=0.007436936821792856\n",
      "Hyperparameters: num_filters1=107, num_filters2=48, dense_units=625, learning_rate=0.0056094972961816154\n",
      "Hyperparameters: num_filters1=18, num_filters2=47, dense_units=592, learning_rate=0.008933670944368565\n",
      "Hyperparameters: num_filters1=94, num_filters2=24, dense_units=649, learning_rate=0.004712803890155218\n",
      "Hyperparameters: num_filters1=54, num_filters2=118, dense_units=845, learning_rate=0.00984734377212419\n",
      "Hyperparameters: num_filters1=44, num_filters2=97, dense_units=406, learning_rate=0.0017593134552948875\n",
      "Hyperparameters: num_filters1=67, num_filters2=55, dense_units=573, learning_rate=0.007222839421354316\n",
      "Hyperparameters: num_filters1=61, num_filters2=33, dense_units=500, learning_rate=0.0020082783498822023\n",
      "Hyperparameters: num_filters1=25, num_filters2=124, dense_units=711, learning_rate=0.0028566835330907582\n",
      "Hyperparameters: num_filters1=29, num_filters2=30, dense_units=593, learning_rate=0.008920199293309538\n",
      "Hyperparameters: num_filters1=33, num_filters2=63, dense_units=554, learning_rate=0.004205971130206326\n",
      "Hyperparameters: num_filters1=78, num_filters2=102, dense_units=561, learning_rate=0.0064876737101645255\n",
      "Hyperparameters: num_filters1=104, num_filters2=26, dense_units=685, learning_rate=0.008866003883897555\n",
      "Hyperparameters: num_filters1=80, num_filters2=59, dense_units=598, learning_rate=0.0015065211059483064\n",
      "Hyperparameters: num_filters1=122, num_filters2=57, dense_units=315, learning_rate=0.00877849392416817\n",
      "Hyperparameters: num_filters1=68, num_filters2=118, dense_units=612, learning_rate=0.0020785164208402614\n",
      "Hyperparameters: num_filters1=24, num_filters2=20, dense_units=642, learning_rate=0.0001957477989944331\n",
      "Hyperparameters: num_filters1=52, num_filters2=74, dense_units=653, learning_rate=0.000771155259157837\n",
      "Hyperparameters: num_filters1=72, num_filters2=53, dense_units=609, learning_rate=0.002818975428408994\n"
     ]
    },
    {
     "name": "stderr",
     "output_type": "stream",
     "text": [
      "pyswarms.single.global_best:  90%|█████████████████████████████████████████████████████████████████████████████████████████          |18/20, best_cost=0.62"
     ]
    },
    {
     "name": "stdout",
     "output_type": "stream",
     "text": [
      "Hyperparameters: num_filters1=29, num_filters2=19, dense_units=601, learning_rate=0.00865977680506687\n",
      "Hyperparameters: num_filters1=67, num_filters2=71, dense_units=565, learning_rate=0.006512758860786219\n",
      "Hyperparameters: num_filters1=63, num_filters2=88, dense_units=675, learning_rate=0.007369633333771266\n",
      "Hyperparameters: num_filters1=30, num_filters2=82, dense_units=578, learning_rate=0.004705888139645587\n",
      "Hyperparameters: num_filters1=41, num_filters2=22, dense_units=626, learning_rate=0.0029317699888490663\n",
      "Hyperparameters: num_filters1=110, num_filters2=125, dense_units=738, learning_rate=0.004105740887114934\n",
      "Hyperparameters: num_filters1=33, num_filters2=56, dense_units=490, learning_rate=0.005731057609458938\n",
      "Hyperparameters: num_filters1=71, num_filters2=76, dense_units=596, learning_rate=0.004419638878585822\n",
      "Hyperparameters: num_filters1=47, num_filters2=25, dense_units=450, learning_rate=0.0076547314605663695\n",
      "Hyperparameters: num_filters1=100, num_filters2=87, dense_units=578, learning_rate=0.004945969585228867\n",
      "Hyperparameters: num_filters1=33, num_filters2=80, dense_units=645, learning_rate=0.006312660151491746\n",
      "Hyperparameters: num_filters1=24, num_filters2=52, dense_units=660, learning_rate=0.0014525808233525014\n",
      "Hyperparameters: num_filters1=31, num_filters2=25, dense_units=486, learning_rate=0.005566091943941014\n",
      "Hyperparameters: num_filters1=27, num_filters2=47, dense_units=677, learning_rate=0.0038758483163197845\n",
      "Hyperparameters: num_filters1=75, num_filters2=79, dense_units=666, learning_rate=0.009239344139065757\n",
      "Hyperparameters: num_filters1=108, num_filters2=116, dense_units=321, learning_rate=0.004827585770645078\n",
      "Hyperparameters: num_filters1=42, num_filters2=40, dense_units=646, learning_rate=0.005691196713247049\n",
      "Hyperparameters: num_filters1=26, num_filters2=83, dense_units=652, learning_rate=0.003914964686390361\n",
      "Hyperparameters: num_filters1=60, num_filters2=114, dense_units=651, learning_rate=0.004987163754700801\n",
      "Hyperparameters: num_filters1=77, num_filters2=55, dense_units=635, learning_rate=0.008924181191084438\n"
     ]
    },
    {
     "name": "stderr",
     "output_type": "stream",
     "text": [
      "pyswarms.single.global_best:  95%|██████████████████████████████████████████████████████████████████████████████████████████████     |19/20, best_cost=0.62"
     ]
    },
    {
     "name": "stdout",
     "output_type": "stream",
     "text": [
      "Hyperparameters: num_filters1=24, num_filters2=94, dense_units=594, learning_rate=0.006459302986719666\n",
      "Hyperparameters: num_filters1=49, num_filters2=72, dense_units=481, learning_rate=0.006640367647825577\n",
      "Hyperparameters: num_filters1=27, num_filters2=61, dense_units=710, learning_rate=0.006333205898642424\n",
      "Hyperparameters: num_filters1=69, num_filters2=115, dense_units=861, learning_rate=0.0010522546910206013\n",
      "Hyperparameters: num_filters1=106, num_filters2=66, dense_units=672, learning_rate=0.0009445841521034362\n",
      "Hyperparameters: num_filters1=122, num_filters2=101, dense_units=211, learning_rate=0.0024194498039931092\n",
      "Hyperparameters: num_filters1=65, num_filters2=61, dense_units=622, learning_rate=0.002798177757295139\n",
      "Hyperparameters: num_filters1=67, num_filters2=18, dense_units=634, learning_rate=0.003851904637107603\n",
      "Hyperparameters: num_filters1=60, num_filters2=119, dense_units=303, learning_rate=0.007346275350909358\n",
      "Hyperparameters: num_filters1=77, num_filters2=79, dense_units=499, learning_rate=0.0002935075615907103\n",
      "Hyperparameters: num_filters1=32, num_filters2=52, dense_units=653, learning_rate=0.003420554889485839\n",
      "Hyperparameters: num_filters1=24, num_filters2=83, dense_units=646, learning_rate=0.005031853940109184\n",
      "Hyperparameters: num_filters1=120, num_filters2=22, dense_units=974, learning_rate=0.0037463385860973153\n",
      "Hyperparameters: num_filters1=81, num_filters2=34, dense_units=580, learning_rate=0.007410720987864687\n",
      "Hyperparameters: num_filters1=95, num_filters2=19, dense_units=627, learning_rate=0.00022777250830923994\n",
      "Hyperparameters: num_filters1=122, num_filters2=106, dense_units=366, learning_rate=0.0012982962763753805\n",
      "Hyperparameters: num_filters1=43, num_filters2=99, dense_units=584, learning_rate=0.004260567644682082\n",
      "Hyperparameters: num_filters1=74, num_filters2=93, dense_units=655, learning_rate=0.0009504051606523127\n",
      "Hyperparameters: num_filters1=77, num_filters2=85, dense_units=618, learning_rate=0.006207778239198146\n",
      "Hyperparameters: num_filters1=56, num_filters2=45, dense_units=683, learning_rate=0.00880354193267789\n"
     ]
    },
    {
     "name": "stderr",
     "output_type": "stream",
     "text": [
      "pyswarms.single.global_best: 100%|███████████████████████████████████████████████████████████████████████████████████████████████████|20/20, best_cost=0.62\n",
      "2023-05-01 07:43:57,909 - pyswarms.single.global_best - INFO - Optimization finished | best cost: 0.6200000047683716, best pos: [3.39149823e+01 1.27917690e+02 6.47018026e+02 7.72361967e-03]\n"
     ]
    },
    {
     "name": "stdout",
     "output_type": "stream",
     "text": [
      "Best hyperparameters found by PSO: num_filters1=33, num_filters2=127, dense_units=647, learning_rate=0.007723619668225172\n",
      "Training the model with the best hyperparameters\n",
      "Epoch 1/50\n",
      "704/704 [==============================] - 220s 311ms/step - loss: 1.7312 - accuracy: 0.4348 - val_loss: 1.1330 - val_accuracy: 0.5920\n",
      "Epoch 2/50\n",
      "704/704 [==============================] - 216s 307ms/step - loss: 1.0773 - accuracy: 0.6187 - val_loss: 1.0510 - val_accuracy: 0.6268\n",
      "Epoch 3/50\n",
      "704/704 [==============================] - 216s 307ms/step - loss: 0.8821 - accuracy: 0.6902 - val_loss: 1.0843 - val_accuracy: 0.6318\n",
      "Epoch 4/50\n",
      "704/704 [==============================] - 227s 323ms/step - loss: 0.7939 - accuracy: 0.7230 - val_loss: 0.9845 - val_accuracy: 0.6590\n",
      "Epoch 5/50\n",
      "704/704 [==============================] - 209s 297ms/step - loss: 0.6988 - accuracy: 0.7572 - val_loss: 0.7072 - val_accuracy: 0.7520\n",
      "Epoch 6/50\n",
      "704/704 [==============================] - 219s 310ms/step - loss: 0.6568 - accuracy: 0.7699 - val_loss: 1.3909 - val_accuracy: 0.5524\n",
      "Epoch 7/50\n",
      "704/704 [==============================] - 217s 309ms/step - loss: 0.6062 - accuracy: 0.7894 - val_loss: 0.7009 - val_accuracy: 0.7664\n",
      "Epoch 8/50\n",
      "704/704 [==============================] - 208s 296ms/step - loss: 0.5463 - accuracy: 0.8103 - val_loss: 0.6666 - val_accuracy: 0.7718\n",
      "Epoch 9/50\n",
      "704/704 [==============================] - 216s 306ms/step - loss: 0.5017 - accuracy: 0.8228 - val_loss: 0.8571 - val_accuracy: 0.7644\n",
      "Epoch 10/50\n",
      "704/704 [==============================] - 228s 324ms/step - loss: 0.4786 - accuracy: 0.8338 - val_loss: 0.6571 - val_accuracy: 0.7912\n",
      "Epoch 11/50\n",
      "704/704 [==============================] - 231s 328ms/step - loss: 0.4274 - accuracy: 0.8526 - val_loss: 0.6696 - val_accuracy: 0.7960\n",
      "Epoch 12/50\n",
      "704/704 [==============================] - 224s 319ms/step - loss: 0.4018 - accuracy: 0.8606 - val_loss: 0.6932 - val_accuracy: 0.7906\n",
      "Epoch 13/50\n",
      "704/704 [==============================] - 218s 310ms/step - loss: 0.3769 - accuracy: 0.8704 - val_loss: 0.8167 - val_accuracy: 0.7606\n",
      "Epoch 14/50\n",
      "704/704 [==============================] - 226s 321ms/step - loss: 0.3481 - accuracy: 0.8802 - val_loss: 0.6354 - val_accuracy: 0.8068\n",
      "Epoch 15/50\n",
      "704/704 [==============================] - 235s 334ms/step - loss: 0.3215 - accuracy: 0.8896 - val_loss: 0.9890 - val_accuracy: 0.7540\n",
      "Epoch 16/50\n",
      "704/704 [==============================] - 260s 369ms/step - loss: 0.3006 - accuracy: 0.8976 - val_loss: 0.7664 - val_accuracy: 0.7922\n",
      "Epoch 17/50\n",
      "704/704 [==============================] - 260s 369ms/step - loss: 0.3016 - accuracy: 0.8964 - val_loss: 0.6411 - val_accuracy: 0.8180\n",
      "Epoch 18/50\n",
      "704/704 [==============================] - 223s 317ms/step - loss: 0.2797 - accuracy: 0.9057 - val_loss: 0.6498 - val_accuracy: 0.8060\n",
      "Epoch 19/50\n",
      "704/704 [==============================] - 221s 314ms/step - loss: 0.2586 - accuracy: 0.9134 - val_loss: 0.8091 - val_accuracy: 0.8012\n",
      "Epoch 20/50\n",
      "704/704 [==============================] - 221s 314ms/step - loss: 0.2626 - accuracy: 0.9112 - val_loss: 0.7342 - val_accuracy: 0.8058\n",
      "Epoch 21/50\n",
      "704/704 [==============================] - 230s 327ms/step - loss: 0.2659 - accuracy: 0.9108 - val_loss: 0.8188 - val_accuracy: 0.8036\n",
      "Epoch 22/50\n",
      "704/704 [==============================] - 215s 305ms/step - loss: 0.2462 - accuracy: 0.9170 - val_loss: 0.6994 - val_accuracy: 0.8270\n",
      "Epoch 23/50\n",
      "704/704 [==============================] - 215s 306ms/step - loss: 0.2229 - accuracy: 0.9260 - val_loss: 1.6413 - val_accuracy: 0.6942\n",
      "Epoch 24/50\n",
      "704/704 [==============================] - 215s 305ms/step - loss: 0.2204 - accuracy: 0.9288 - val_loss: 0.8305 - val_accuracy: 0.8190\n",
      "Total training time: 5374.38 seconds\n",
      "Evaluating the model on the test dataset\n",
      "313/313 [==============================] - 14s 43ms/step\n",
      "Test accuracy: 0.7972000241279602\n",
      "Classification Report:\n",
      "              precision    recall  f1-score   support\n",
      "\n",
      "           0       0.83      0.83      0.83      1000\n",
      "           1       0.85      0.94      0.89      1000\n",
      "           2       0.63      0.78      0.70      1000\n",
      "           3       0.67      0.58      0.63      1000\n",
      "           4       0.72      0.81      0.76      1000\n",
      "           5       0.81      0.64      0.72      1000\n",
      "           6       0.78      0.90      0.84      1000\n",
      "           7       0.92      0.78      0.84      1000\n",
      "           8       0.89      0.92      0.90      1000\n",
      "           9       0.95      0.79      0.86      1000\n",
      "\n",
      "    accuracy                           0.80     10000\n",
      "   macro avg       0.80      0.80      0.80     10000\n",
      "weighted avg       0.80      0.80      0.80     10000\n",
      "\n",
      "Confusion Matrix:\n",
      "[[833  11  39  16  23   2  12   7  48   9]\n",
      " [ 11 942   5   1   1   3   7   2  11  17]\n",
      " [ 49   7 782  21  56  21  50   5   8   1]\n",
      " [ 18  10 112 585  71  82  94  18   7   3]\n",
      " [  6   4  91  20 810   9  35  17   8   0]\n",
      " [ 10   3  94 154  54 640  27  13   4   1]\n",
      " [  5   3  40  22  26   4 897   1   2   0]\n",
      " [ 16   2  54  33  75  23   8 781   5   3]\n",
      " [ 22  19  10   6   8   5   5   0 916   9]\n",
      " [ 34 112   7  12   6   1   9   7  26 786]]\n",
      "ROC-AUC Score: 0.9781175111111111\n",
      "Plotting the training and validation accuracies\n"
     ]
    },
    {
     "data": {
      "image/png": "[encoded data removed]",
      "text/plain": [
       "<Figure size 432x288 with 1 Axes>"
      ]
     },
     "metadata": {
      "needs_background": "light"
     },
     "output_type": "display_data"
    }
   ],
   "source": [
    "import numpy as np\n",
    "import matplotlib.pyplot as plt\n",
    "import tensorflow as tf\n",
    "import pyswarms as ps\n",
    "from functools import partial\n",
    "from sklearn.metrics import classification_report, confusion_matrix, roc_auc_score\n",
    "from tensorflow.keras.models import Sequential\n",
    "from tensorflow.keras.layers import Conv2D, MaxPooling2D, Flatten, Dense, Dropout, BatchNormalization\n",
    "from tensorflow.keras.optimizers import Adam\n",
    "from tensorflow.keras.callbacks import EarlyStopping\n",
    "import time\n",
    "\n",
    "# Load and preprocess the CIFAR-10 dataset\n",
    "print(\"Loading and preprocessing CIFAR-10 dataset\")\n",
    "(x_train, y_train), (x_test, y_test) = tf.keras.datasets.cifar10.load_data()\n",
    "x_train, x_test = x_train / 255.0, x_test / 255.0\n",
    "y_train, y_test = tf.keras.utils.to_categorical(y_train), tf.keras.utils.to_categorical(y_test)\n",
    "\n",
    "# Split the training data into train and validation sets\n",
    "print(\"Splitting the training data into train and validation sets\")\n",
    "validation_split = 0.1\n",
    "split_index = int(len(x_train) * validation_split)\n",
    "x_val, y_val = x_train[:split_index], y_train[:split_index]\n",
    "x_train, y_train = x_train[split_index:], y_train[split_index:]\n",
    "\n",
    "sample_size = 1000  # Adjust this value as needed\n",
    "sample_indices = np.random.choice(np.arange(x_train.shape[0]), sample_size, replace=False)\n",
    "\n",
    "x_train_small = x_train[sample_indices]\n",
    "y_train_small = y_train[sample_indices]\n",
    "\n",
    "split_index_small = int(len(x_train_small) * validation_split)\n",
    "x_val_small, y_val_small = x_train_small[:split_index_small], y_train_small[:split_index_small]\n",
    "x_train_small, y_train_small = x_train_small[split_index_small:], y_train_small[split_index_small:]\n",
    "\n",
    "# Define a fitness function to be optimized using PSO\n",
    "def fitness_function(hparams, x_train, y_train, x_val, y_val):\n",
    "    fitness_values = []\n",
    "    for hparam in hparams:\n",
    "        num_filters1, num_filters2, dense_units, learning_rate = hparam\n",
    "        num_filters1 = int(num_filters1)\n",
    "        num_filters2 = int(num_filters2)\n",
    "        dense_units = int(dense_units)\n",
    "        \n",
    "        print(f\"Hyperparameters: num_filters1={num_filters1}, \"\n",
    "              f\"num_filters2={num_filters2}, dense_units={dense_units}, \"\n",
    "              f\"learning_rate={learning_rate}\")\n",
    "\n",
    "        model = Sequential([\n",
    "            Conv2D(num_filters1, (3, 3), activation='relu', padding='same', input_shape=(32, 32, 3)),\n",
    "            BatchNormalization(),\n",
    "            Conv2D(num_filters1, (3, 3), activation='relu', padding='same'),\n",
    "            BatchNormalization(),\n",
    "            MaxPooling2D((2, 2)),\n",
    "            Dropout(0.25),\n",
    "\n",
    "            Conv2D(num_filters2, (3, 3), activation='relu', padding='same'),\n",
    "            BatchNormalization(),\n",
    "            Conv2D(num_filters2, (3, 3), activation='relu', padding='same'),\n",
    "            BatchNormalization(),\n",
    "            MaxPooling2D((2, 2)),\n",
    "            Dropout(0.25),\n",
    "\n",
    "            Flatten(),\n",
    "            Dense(dense_units, activation='relu'),\n",
    "            BatchNormalization(),\n",
    "            Dropout(0.5),\n",
    "            Dense(10, activation='softmax')\n",
    "        ])\n",
    "\n",
    "        model.compile(optimizer=Adam(learning_rate=learning_rate),\n",
    "                      loss='categorical_crossentropy',\n",
    "                      metrics=['accuracy'])\n",
    "\n",
    "        early_stopping = EarlyStopping(monitor='val_loss', patience=3, restore_best_weights=True)\n",
    "\n",
    "        history = model.fit(x_train, y_train, epochs=10, batch_size=64,\n",
    "                            validation_data=(x_val, y_val),\n",
    "                            callbacks=[early_stopping],\n",
    "                            verbose=0)\n",
    "\n",
    "        best_val_acc = max(history.history['val_accuracy'])\n",
    "        fitness_values.append(1 - best_val_acc)  # Minimize the fitness function (1 - val_accuracy)\n",
    "\n",
    "    return np.array(fitness_values)\n",
    "\n",
    "# Define the PSO search space for hyperparameters\n",
    "print(\"Defining the PSO search space for hyperparameters\")\n",
    "search_space_bounds = (np.array([16, 16, 128, 1e-5]),\n",
    "                       np.array([128, 128, 1024, 1e-2]))\n",
    "\n",
    "# Define the fitness function with fixed data arguments\n",
    "print(\"Defining the fitness function with fixed data arguments\")\n",
    "fitness_function_data = partial(fitness_function,\n",
    "                                x_train=x_train_small, y_train=y_train_small,\n",
    "                                x_val=x_val_small, y_val=y_val_small)\n",
    "\n",
    "# Initialize the PSO optimizer\n",
    "print(\"Initializing the PSO optimizer\")\n",
    "options = {'c1': 1.2, 'c2': 1.9, 'w': 0.7}\n",
    "optimizer = ps.single.GlobalBestPSO(n_particles=20, dimensions=4, options=options,\n",
    "                                    bounds=search_space_bounds)\n",
    "\n",
    "# Run the PSO optimizer\n",
    "print(\"Running the PSO optimizer\")\n",
    "cost, best_hyperparams = optimizer.optimize(fitness_function_data, iters=20)\n",
    "\n",
    "# Extract the best hyperparameters\n",
    "best_num_filters1, best_num_filters2, best_dense_units, best_learning_rate = best_hyperparams\n",
    "best_num_filters1 = int(best_num_filters1)\n",
    "best_num_filters2 = int(best_num_filters2)\n",
    "best_dense_units = int(best_dense_units)\n",
    "\n",
    "print(f\"Best hyperparameters found by PSO: num_filters1={best_num_filters1}, \"\n",
    "      f\"num_filters2={best_num_filters2}, dense_units={best_dense_units}, \"\n",
    "      f\"learning_rate={best_learning_rate}\")\n",
    "\n",
    "# Train the model with the best hyperparameters\n",
    "print(\"Training the model with the best hyperparameters\")\n",
    "model = Sequential([\n",
    "    Conv2D(best_num_filters1, (3, 3), activation='relu', padding='same', input_shape=(32, 32, 3)),\n",
    "    BatchNormalization(),\n",
    "    Conv2D(best_num_filters1, (3, 3), activation='relu', padding='same'),\n",
    "    BatchNormalization(),\n",
    "    MaxPooling2D((2, 2)),\n",
    "    Dropout(0.25),\n",
    "\n",
    "    Conv2D(best_num_filters2, (3, 3), activation='relu', padding='same'),\n",
    "    BatchNormalization(),\n",
    "    Conv2D(best_num_filters2, (3, 3), activation='relu', padding='same'),\n",
    "    BatchNormalization(),\n",
    "    MaxPooling2D((2, 2)),\n",
    "    Dropout(0.25),\n",
    "\n",
    "    Flatten(),\n",
    "    Dense(best_dense_units, activation='relu'),\n",
    "    BatchNormalization(),\n",
    "    Dropout(0.5),\n",
    "    Dense(10, activation='softmax')\n",
    "])\n",
    "\n",
    "model.compile(optimizer=Adam(learning_rate=best_learning_rate),\n",
    "              loss='categorical_crossentropy',\n",
    "              metrics=['accuracy'])\n",
    "\n",
    "early_stopping = EarlyStopping(monitor='val_loss', patience=10, restore_best_weights=True)\n",
    "start_time = time.time()\n",
    "\n",
    "history = model.fit(x_train, y_train, epochs=50, batch_size=64,\n",
    "                    validation_data=(x_val, y_val),\n",
    "                    callbacks=[early_stopping],\n",
    "                    verbose=1)\n",
    "end_time = time.time()\n",
    "\n",
    "training_time = end_time - start_time\n",
    "print(f'Total training time: {training_time:.2f} seconds')\n",
    "\n",
    "# Evaluate the model on the test dataset\n",
    "print(\"Evaluating the model on the test dataset\")\n",
    "test_loss, test_acc = model.evaluate(x_test, y_test, verbose=0)\n",
    "y_pred = model.predict(x_test)\n",
    "y_pred_classes = np.argmax(y_pred, axis=1)\n",
    "y_test_classes = np.argmax(y_test, axis=1)\n",
    "\n",
    "print(f'Test accuracy: {test_acc}')\n",
    "\n",
    "print(\"Classification Report:\")\n",
    "print(classification_report(y_test_classes, y_pred_classes))\n",
    "\n",
    "print(\"Confusion Matrix:\")\n",
    "print(confusion_matrix(y_test_classes, y_pred_classes))\n",
    "\n",
    "# Calculate ROC-AUC for multi-class classification\n",
    "roc_auc = roc_auc_score(y_test, y_pred, multi_class='ovr')\n",
    "print(f'ROC-AUC Score: {roc_auc}')\n",
    "\n",
    "# Plot the training and validation accuracies\n",
    "print(\"Plotting the training and validation accuracies\")\n",
    "plt.plot(history.history['accuracy'], label='Training accuracy')\n",
    "plt.plot(history.history['val_accuracy'], label='Validation accuracy')\n",
    "plt.title('Training and Validation Accuracy')\n",
    "plt.xlabel('Epoch')\n",
    "plt.ylabel('Accuracy')\n",
    "plt.legend()\n",
    "plt.show()"
   ]
  },
  {
   "cell_type": "code",
   "execution_count": 1,
   "id": "ed1f4ea2",
   "metadata": {},
   "outputs": [
    {
     "data": {
      "image/png": "[encoded data removed]",
      "text/plain": [
       "<Figure size 720x576 with 2 Axes>"
      ]
     },
     "metadata": {
      "needs_background": "light"
     },
     "output_type": "display_data"
    }
   ],
   "source": [
    "# Using these hardcoded values as obtained from confusion matrix above inorder to make a plot\n",
    "import numpy as np\n",
    "import matplotlib.pyplot as plt\n",
    "import seaborn as sns\n",
    "\n",
    "# Confusion matrix data\n",
    "confusion_matrix = np.array([\n",
    "    [833, 11, 39, 16, 23, 2, 12, 7, 48, 9],\n",
    "    [11, 942, 5, 1, 1, 3, 7, 2, 11, 17],\n",
    "    [49, 7, 782, 21, 56, 21, 50, 5, 8, 1],\n",
    "    [18, 10, 112, 585, 71, 82, 94, 18, 7, 3],\n",
    "    [6, 4, 91, 20, 810, 9, 35, 17, 8, 0],\n",
    "    [10, 3, 94, 154, 54, 640, 27, 13, 4, 1],\n",
    "    [5, 3, 40, 22, 26, 4, 897, 1, 2, 0],\n",
    "    [16, 2, 54, 33, 75, 23, 8, 781, 5, 3],\n",
    "    [22, 19, 10, 6, 8, 5, 5, 0, 916, 9],\n",
    "    [34, 112, 7, 12, 6, 1, 9, 7, 26, 786]\n",
    "])\n",
    "\n",
    "# Class names\n",
    "class_names = ['airplane', 'automobile', 'bird', 'cat', 'deer', 'dog', 'frog', 'horse', 'ship', 'truck']\n",
    "\n",
    "# Plot confusion matrix\n",
    "plt.figure(figsize=(10, 8))\n",
    "sns.heatmap(confusion_matrix, annot=True, fmt='d', cmap='Blues', xticklabels=class_names, yticklabels=class_names)\n",
    "plt.xlabel('Predicted')\n",
    "plt.ylabel('True')\n",
    "plt.title('Confusion Matrix')\n",
    "plt.show()"
   ]
  }
 ],
 "metadata": {
  "kernelspec": {
   "display_name": "Python 3 (ipykernel)",
   "language": "python",
   "name": "python3"
  },
  "language_info": {
   "codemirror_mode": {
    "name": "ipython",
    "version": 3
   },
   "file_extension": ".py",
   "mimetype": "text/x-python",
   "name": "python",
   "nbconvert_exporter": "python",
   "pygments_lexer": "ipython3",
   "version": "3.9.12"
  }
 },
 "nbformat": 4,
 "nbformat_minor": 5
}
